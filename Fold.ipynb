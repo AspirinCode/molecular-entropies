{
 "cells": [
  {
   "cell_type": "code",
   "execution_count": 4,
   "metadata": {},
   "outputs": [],
   "source": [
    "import numpy as np\n",
    "import pandas as pd\n",
    "import matplotlib.pyplot as plt\n",
    "import seaborn as sns\n",
    "from rdkit import Chem\n",
    "from rdkit.Chem import rdmolops\n",
    "import entropy"
   ]
  },
  {
   "cell_type": "code",
   "execution_count": 2,
   "metadata": {},
   "outputs": [],
   "source": [
    "def InPiStackFusedRing(mol,ringpair):\n",
    "    \"\"\"\n",
    "    Label fused ring system in  Pi-Pi stacking ring pair\n",
    "    \n",
    "    \"\"\"\n",
    "    rpair = []\n",
    "    rings = []\n",
    "    indexpair = []\n",
    "    groups = []\n",
    "    for pair in ringpair:\n",
    "        for ring in pair:\n",
    "            if list(set(ring)) not in rings:\n",
    "                rings.append(list(set(ring)))\n",
    "    for pair in ringpair:\n",
    "        shortest_path = entropy.GetShortestPathBetweenRing(mol, pair[0], pair[1])\n",
    "        check = [len(set(shortest_path).intersection(set(r)))>1 for r in rings]\n",
    "        if any(check):\n",
    "            idx = [i for i,j in enumerate(check) if j]\n",
    "            if any([len(set(rings[i]).intersection(set(pair[0])))>0 for i in idx]) or any([len(set(rings[i]).intersection(set(pair[1])))>0 for i in idx]):\n",
    "                rpair.append((pair[0], pair[1],1))\n",
    "            else:\n",
    "                rpair.append((pair[0], pair[1],0))\n",
    "        else:\n",
    "            rpair.append((pair[0], pair[1],0))\n",
    "    return rpair"
   ]
  },
  {
   "cell_type": "code",
   "execution_count": 5,
   "metadata": {},
   "outputs": [],
   "source": [
    "# Load molecule with Pi-Pi stacking in training set\n",
    "zinc_pi_stack = Chem.SDMolSupplier(\"zinc_pi_stack_train.sdf\",removeHs=False)\n",
    "cod_pi_stack = Chem.SDMolSupplier(\"cod_pi_stack_train.sdf\",removeHs=False)\n",
    "all_pi_stack = [mol for mol in zinc_pi_stack] + [mol for mol in cod_pi_stack]\n",
    "unique_mol_pi_stack = []\n",
    "inchis = []\n",
    "# Some molecule in COD and ZINC overlap. Remove duplicates\n",
    "for mol in all_pi_stack:\n",
    "    inchi = Chem.MolToInchiKey(mol)\n",
    "    if inchi not in inchis:\n",
    "        inchis.append(inchi)\n",
    "        unique_mol_pi_stack.append(mol)"
   ]
  },
  {
   "cell_type": "code",
   "execution_count": 6,
   "metadata": {},
   "outputs": [
    {
     "data": {
      "text/plain": [
       "7887"
      ]
     },
     "execution_count": 6,
     "metadata": {},
     "output_type": "execute_result"
    }
   ],
   "source": [
    "len(unique_mol_pi_stack)"
   ]
  },
  {
   "cell_type": "markdown",
   "metadata": {},
   "source": [
    "<font size=\"5\">We will study six functional groups here:  Carbamic Acid, Urea, Ketone, Ether, Ester and Amide</font>"
   ]
  },
  {
   "cell_type": "markdown",
   "metadata": {},
   "source": [
    "# Carbamic Acid"
   ]
  },
  {
   "cell_type": "code",
   "execution_count": 7,
   "metadata": {},
   "outputs": [],
   "source": [
    "# Carbamic Acid\n",
    "carbamic_1 = Chem.MolFromSmarts(\"OC(=O)N\") \n",
    "carbamic_mol = []\n",
    "carbamic_mol_inchi = []\n",
    "for mol in unique_mol_pi_stack:\n",
    "    pistack = entropy.GetPiPiStacking(mol)\n",
    "    inchi = Chem.MolToInchiKey(mol)\n",
    "    carbamic_match = mol.GetSubstructMatches(carbamic_1)\n",
    "    for pi in pistack:\n",
    "        shortest_path = entropy.GetShortestPathBetweenRing(mol, pi[0], pi[1])\n",
    "        carbamic_check = [p for p in carbamic_match if len(set(shortest_path).intersection(set(p)))==3]\n",
    "        if any(carbamic_check) and (inchi not in carbamic_mol_inchi):\n",
    "            carbamic_mol_inchi.append(inchi)\n",
    "            carbamic_mol.append(mol)"
   ]
  },
  {
   "cell_type": "code",
   "execution_count": 99,
   "metadata": {},
   "outputs": [],
   "source": [
    "carbamic_smart = Chem.MolFromSmarts(\"aCOC(=O)N\")\n",
    "carbamic_ester = Chem.MolFromSmarts(\"aOC(=O)\")\n",
    "carbamic_pos = []\n",
    "ester_pos = []\n",
    "pathsize = []\n",
    "for mol in carbamic_mol:\n",
    "    pistack = entropy.GetPiPiStacking(mol)\n",
    "    carbamic_match = mol.GetSubstructMatches(carbamic_smart)\n",
    "    ester_match = mol.GetSubstructMatches(carbamic_ester)\n",
    "    for pi in pistack:\n",
    "        shortest_path = entropy.GetShortestPathBetweenRing(mol, pi[0], pi[1])\n",
    "        path_bonds = [sorted([shortest_path[i], shortest_path[i+1]]) for i in range(len(shortest_path)-1)]\n",
    "        carbamic_check = [p for p in carbamic_match if len(set(shortest_path).intersection(set(p)))==5]\n",
    "        ester_check = [p for p in ester_match if len(set(shortest_path).intersection(set(p)))==3]\n",
    "        carbamic_CO = []\n",
    "        ester_CO = []\n",
    "        for cm in carbamic_check:\n",
    "            CO = sorted([cm[2],cm[3]])\n",
    "            if (CO in path_bonds) and (CO not in carbamic_CO): # avoid repeating\n",
    "                carbamic_CO.append(CO)\n",
    "        for em in ester_check:\n",
    "            CO = sorted([em[1],em[2]])\n",
    "            if (CO in path_bonds) and (CO not in ester_CO): # avoid repeating\n",
    "                ester_CO.append(CO)\n",
    "        if any(carbamic_CO):\n",
    "            # Determine the pi-pi stacking order A-->B or B-->A\n",
    "            forward_index = [path_bonds.index(CO) for CO in carbamic_CO]\n",
    "            backward_index = [len(path_bonds)-idx for idx in forward_index]\n",
    "            if min(forward_index)<=min(backward_index):\n",
    "                outcome = forward_index\n",
    "                if any(ester_CO):\n",
    "                    tmp = list(set([path_bonds.index(CO) for CO in ester_CO]))\n",
    "                    ester_pos.append([tmp,len(path_bonds)])           \n",
    "                    pathsize.append([len(path_bonds),1])\n",
    "                else:\n",
    "                    pathsize.append([len(path_bonds),0])\n",
    "            else:\n",
    "                outcome = backward_index\n",
    "                path_bonds.reverse()\n",
    "                if any(ester_CO):\n",
    "                    tmp = list(set([path_bonds.index(CO) for CO in ester_CO]))\n",
    "                    ester_pos.append([tmp, len(path_bonds)])\n",
    "                    pathsize.append([len(path_bonds),1])\n",
    "                else:\n",
    "                    pathsize.append([len(path_bonds),0])\n",
    "            carbamic_pos.append([outcome, len(path_bonds)])"
   ]
  },
  {
   "cell_type": "code",
   "execution_count": 100,
   "metadata": {},
   "outputs": [
    {
     "data": {
      "image/png": "[encoded data removed]",
      "text/plain": [
       "<Figure size 432x288 with 1 Axes>"
      ]
     },
     "metadata": {
      "needs_background": "light"
     },
     "output_type": "display_data"
    }
   ],
   "source": [
    "# Path Length\n",
    "carbamic_frame = pd.DataFrame(pathsize, columns=[\"Path Length\", \"Ester\"])\n",
    "carbamic_group = carbamic_frame.groupby(\"Ester\")\n",
    "w_ester = carbamic_group.get_group(1)\n",
    "wo_ester = carbamic_group.get_group(0)\n",
    "w = w_ester[\"Path Length\"].value_counts()\n",
    "wo = wo_ester[\"Path Length\"].value_counts()\n",
    "carbamic_data = pd.DataFrame({\"Path Length\":list(w.index)+list(wo.index), \"Frequency\":list(w)+list(wo), \n",
    "                           \"Ester\": [\"With Ester\"]*len(w)+[\"Without Ester\"]*len(wo)})\n",
    "sns.barplot(data=carbamic_data, x=\"Path Length\",y=\"Frequency\", hue=\"Ester\")\n",
    "plt.legend(loc=\"upper right\")\n",
    "plt.xlabel(\"Path Length\",size=15)\n",
    "plt.ylabel(\"Frequency\",size=15)\n",
    "plt.savefig(\"carbamic_path_length.pdf\",dpi=300,bbox_inches=\"tight\")\n",
    "plt.show()"
   ]
  },
  {
   "cell_type": "code",
   "execution_count": 101,
   "metadata": {},
   "outputs": [],
   "source": [
    "# Carbamic Acid and Ester Bond Position Analysis\n",
    "# Set maximum path length 15 for our analysis\n",
    "carbamic_pos_analysis = [] \n",
    "ester_pos_analysis = []\n",
    "for item in carbamic_pos:\n",
    "    pseudo = [0]*15\n",
    "    if item[1]>15:\n",
    "        continue \n",
    "    else:\n",
    "        half = int(np.floor(item[1]/2))\n",
    "        if item[1]%2:\n",
    "            start = half+1\n",
    "        else:\n",
    "            start = half\n",
    "        for i in range(start,15-half):\n",
    "            pseudo[i] = np.nan\n",
    "        for j in item[0]:\n",
    "            if j>half:\n",
    "                pseudo[-(item[1]-j)] = 1\n",
    "                \n",
    "            else:\n",
    "                pseudo[j] = 1\n",
    "        carbamic_pos_analysis.append(pseudo)\n",
    "\n",
    "for item in ester_pos:\n",
    "    pseudo = [0]*15\n",
    "    if item[1]>15:\n",
    "        continue \n",
    "    else:\n",
    "        half = int(np.floor(item[1]/2))\n",
    "        if item[1]%2:\n",
    "            start = half+1\n",
    "        else:\n",
    "            start = half\n",
    "        for i in range(start,15-half):\n",
    "            pseudo[i] = np.nan\n",
    "        for j in item[0]:\n",
    "            if j>half:\n",
    "                pseudo[-(item[1]-j)] = 1\n",
    "                \n",
    "            else:\n",
    "                pseudo[j] = 1\n",
    "        ester_pos_analysis.append(pseudo)"
   ]
  },
  {
   "cell_type": "code",
   "execution_count": 102,
   "metadata": {},
   "outputs": [
    {
     "data": {
      "image/png": "[encoded data removed]",
      "text/plain": [
       "<Figure size 432x288 with 1 Axes>"
      ]
     },
     "metadata": {
      "needs_background": "light"
     },
     "output_type": "display_data"
    }
   ],
   "source": [
    "carbamic_frame = pd.DataFrame(carbamic_pos_analysis)\n",
    "ester_frame = pd.DataFrame(ester_pos_analysis)\n",
    "carbamic_frame_ = carbamic_frame.sum(axis=0)\n",
    "ester_frame_ = ester_frame.sum(axis=0)\n",
    "plt.bar(carbamic_frame_.index+1,carbamic_frame_)\n",
    "plt.bar(ester_frame_.index+1,ester_frame_)\n",
    "plt.xlim(0.5,15.5)\n",
    "plt.xticks(np.arange(1,16,2))\n",
    "plt.xlabel(\"Bond Position\",size=15)\n",
    "plt.ylabel(\"Frequency\",size=15)\n",
    "plt.savefig(\"carbamic_position_analysis.pdf\",dpi=300,bbox_inches=\"tight\")\n",
    "plt.show()"
   ]
  },
  {
   "cell_type": "markdown",
   "metadata": {},
   "source": [
    "# Urea"
   ]
  },
  {
   "cell_type": "code",
   "execution_count": 8,
   "metadata": {},
   "outputs": [],
   "source": [
    "urea_1 = Chem.MolFromSmarts(\"NC(=O)N\")\n",
    "urea_mol = []\n",
    "urea_mol_inchi = []\n",
    "for mol in unique_mol_pi_stack:\n",
    "    pistack = entropy.GetPiPiStacking(mol)\n",
    "    inchi = Chem.MolToInchiKey(mol)\n",
    "    urea_match = mol.GetSubstructMatches(urea_1)\n",
    "    for pi in pistack:\n",
    "        shortest_path = entropy.GetShortestPathBetweenRing(mol, pi[0], pi[1])\n",
    "        urea_check = [p for p in urea_match if len(set(shortest_path).intersection(set(p)))==3]\n",
    "        if any(urea_check) and (inchi not in urea_mol_inchi):\n",
    "            urea_mol_inchi.append(inchi)\n",
    "            urea_mol.append(mol)"
   ]
  },
  {
   "cell_type": "markdown",
   "metadata": {},
   "source": [
    "<font size=\"5\">Urea Pattern 1</font>"
   ]
  },
  {
   "cell_type": "code",
   "execution_count": 104,
   "metadata": {},
   "outputs": [],
   "source": [
    "urea_smart = Chem.MolFromSmarts(\"[N;R][C;R](=O)[N;R]\")\n",
    "urea_amide = Chem.MolFromSmarts(\"[#6][N][C](=O)[#6]\")\n",
    "urea_pos = []\n",
    "amide_pos = []\n",
    "pathsize = []\n",
    "for mol in urea_mol:\n",
    "    pistack = entropy.GetPiPiStacking(mol)\n",
    "    urea_match = mol.GetSubstructMatches(urea_smart)\n",
    "    amide_match = mol.GetSubstructMatches(urea_amide)\n",
    "    for pi in pistack:\n",
    "        shortest_path = entropy.GetShortestPathBetweenRing(mol, pi[0], pi[1])\n",
    "        path_bonds = [sorted([shortest_path[i], shortest_path[i+1]]) for i in range(len(shortest_path)-1)]\n",
    "        urea_check = [p for p in urea_match if len(set(shortest_path).intersection(set(p)))>=2]\n",
    "        amide_check = [p for p in amide_match if len(set(shortest_path).intersection(set(p)))==3]\n",
    "        urea_C = []\n",
    "        amide_CN = []\n",
    "        for u in urea_check:\n",
    "            C = u[1]\n",
    "            if (C in shortest_path) and (C not in urea_C): # avoid repeating\n",
    "                urea_C.append(C)\n",
    "        for am in amide_check:\n",
    "            CN = sorted([am[1],am[2]])\n",
    "            if (CN in path_bonds) and (CN not in amide_CN): # avoid repeating\n",
    "                amide_CN.append(CN)\n",
    "        if any(urea_C):\n",
    "            # Determine the pi-pi stacking order A-->B or B-->A\n",
    "            forward_index = [shortest_path.index(C) for C in urea_C]\n",
    "            backward_index = [len(shortest_path)-idx for idx in forward_index]\n",
    "            if min(forward_index)<=min(backward_index):\n",
    "                outcome = forward_index\n",
    "                if any(amide_CN):\n",
    "                    tmp = list(set([path_bonds.index(CN) for CN in amide_CN]))\n",
    "                    amide_pos.append([tmp,len(path_bonds)])           \n",
    "                    pathsize.append([len(path_bonds),1])\n",
    "                else:\n",
    "                    pathsize.append([len(path_bonds),0])\n",
    "            else:\n",
    "                outcome = backward_index\n",
    "                path_bonds.reverse()\n",
    "                if any(amide_CN):\n",
    "                    tmp = list(set([path_bonds.index(CN) for CN in amide_CN]))\n",
    "                    amide_pos.append([tmp, len(path_bonds)])\n",
    "                    pathsize.append([len(path_bonds),1])\n",
    "                else:\n",
    "                    pathsize.append([len(path_bonds),0])\n",
    "            urea_pos.append([outcome, len(shortest_path)])"
   ]
  },
  {
   "cell_type": "code",
   "execution_count": 105,
   "metadata": {},
   "outputs": [
    {
     "data": {
      "image/png": "[encoded data removed]",
      "text/plain": [
       "<Figure size 432x288 with 1 Axes>"
      ]
     },
     "metadata": {
      "needs_background": "light"
     },
     "output_type": "display_data"
    }
   ],
   "source": [
    "# Path Length\n",
    "urea_frame = pd.DataFrame(pathsize, columns=[\"Path Length\", \"Amide\"])\n",
    "# No Amide\n",
    "urea_path_length = urea_frame[\"Path Length\"].value_counts()\n",
    "plt.bar(urea_path_length.index,height=urea_path_length)\n",
    "plt.xticks(np.arange(7,15,1))\n",
    "plt.xlabel(\"Path Length\",size=15)\n",
    "plt.ylabel(\"Frequency\",size=15)\n",
    "plt.savefig(\"urea_p1_path_length.pdf\",dpi=300,bbox_inches=\"tight\")\n",
    "plt.show()"
   ]
  },
  {
   "cell_type": "code",
   "execution_count": 106,
   "metadata": {},
   "outputs": [],
   "source": [
    "# Urea Carbon Position Analysis\n",
    "# Set maximum path length 15 for our analysis\n",
    "urea_pos_analysis = [] \n",
    "for item in urea_pos:\n",
    "    pseudo = [0]*16\n",
    "    if item[1]>16:\n",
    "        continue \n",
    "    else:\n",
    "        half = int(np.floor(item[1]/2))\n",
    "        if item[1]%2:\n",
    "            start = half+1\n",
    "        else:\n",
    "            start = half\n",
    "        for i in range(start,16-half):\n",
    "            pseudo[i] = np.nan\n",
    "        for j in item[0]:\n",
    "            if j>half:\n",
    "                pseudo[-(item[1]-j)] = 1\n",
    "                \n",
    "            else:\n",
    "                pseudo[j] = 1\n",
    "        urea_pos_analysis.append(pseudo)\n"
   ]
  },
  {
   "cell_type": "code",
   "execution_count": 107,
   "metadata": {},
   "outputs": [
    {
     "data": {
      "image/png": "[encoded data removed]",
      "text/plain": [
       "<Figure size 432x288 with 1 Axes>"
      ]
     },
     "metadata": {
      "needs_background": "light"
     },
     "output_type": "display_data"
    }
   ],
   "source": [
    "urea_frame = pd.DataFrame(urea_pos_analysis)\n",
    "urea_frame_ = urea_frame.sum(axis=0)\n",
    "plt.bar(urea_frame_.index+1,urea_frame_)\n",
    "plt.xlim(0.5,15.5)\n",
    "plt.xticks(np.arange(1,17,2))\n",
    "plt.xlabel(\"Atom Position\",size=15)\n",
    "plt.ylabel(\"Frequency\",size=15)\n",
    "plt.savefig(\"urea_p1_position_analysis.pdf\",dpi=300,bbox_inches=\"tight\")\n",
    "plt.show()"
   ]
  },
  {
   "cell_type": "markdown",
   "metadata": {},
   "source": [
    "<font size=\"5\">Urea Pattern 2</font>"
   ]
  },
  {
   "cell_type": "code",
   "execution_count": 108,
   "metadata": {},
   "outputs": [],
   "source": [
    "urea_smart = Chem.MolFromSmarts(\"[N;R]!@;-[C](=O)[N;!R]\")\n",
    "urea_amide = Chem.MolFromSmarts(\"[#6][N][C](=O)[#6]\")\n",
    "urea_pos = []\n",
    "amide_pos = []\n",
    "pathsize = []\n",
    "for mol in urea_mol:\n",
    "    pistack = entropy.GetPiPiStacking(mol)\n",
    "    urea_match = mol.GetSubstructMatches(urea_smart)\n",
    "    amide_match = mol.GetSubstructMatches(urea_amide)\n",
    "    for pi in pistack:\n",
    "        shortest_path = entropy.GetShortestPathBetweenRing(mol, pi[0], pi[1])\n",
    "        path_bonds = [sorted([shortest_path[i], shortest_path[i+1]]) for i in range(len(shortest_path)-1)]\n",
    "        urea_check = [p for p in urea_match if len(set(shortest_path).intersection(set(p)))>=2]\n",
    "        amide_check = [p for p in amide_match if len(set(shortest_path).intersection(set(p)))>=3]\n",
    "        urea_C = []\n",
    "        amide_CN = []\n",
    "        for u in urea_check:\n",
    "            C = u[1]\n",
    "            if (C in shortest_path) and (C not in urea_C): # avoid repeating\n",
    "                urea_C.append(C)\n",
    "        for am in amide_check:\n",
    "            CN = sorted([am[1],am[2]])\n",
    "            if (CN in path_bonds) and (CN not in amide_CN): # avoid repeating\n",
    "                amide_CN.append(CN)\n",
    "        if any(urea_C):\n",
    "            # Determine the pi-pi stacking order A-->B or B-->A\n",
    "            forward_index = [shortest_path.index(C) for C in urea_C]\n",
    "            backward_index = [len(shortest_path)-idx for idx in forward_index]\n",
    "            if min(forward_index)<=min(backward_index):\n",
    "                outcome = forward_index\n",
    "                if any(amide_CN):\n",
    "                    tmp = list(set([path_bonds.index(CN) for CN in amide_CN]))\n",
    "                    amide_pos.append([tmp,len(path_bonds)])           \n",
    "                    pathsize.append([len(path_bonds),1])\n",
    "                else:\n",
    "                    pathsize.append([len(path_bonds),0])\n",
    "            else:\n",
    "                outcome = backward_index\n",
    "                path_bonds.reverse()\n",
    "                if any(amide_CN):\n",
    "                    tmp = list(set([path_bonds.index(CN) for CN in amide_CN]))\n",
    "                    amide_pos.append([tmp, len(path_bonds)])\n",
    "                    pathsize.append([len(path_bonds),1])\n",
    "                else:\n",
    "                    pathsize.append([len(path_bonds),0])\n",
    "            urea_pos.append([outcome, len(shortest_path)])"
   ]
  },
  {
   "cell_type": "code",
   "execution_count": 109,
   "metadata": {},
   "outputs": [],
   "source": [
    "# Urea Carbon Position Analysis\n",
    "# Set maximum atom path length 16 for our analysis\n",
    "urea_pos_analysis = [] \n",
    "for item in urea_pos:\n",
    "    pseudo = [0]*16\n",
    "    if item[1]>16:\n",
    "        continue \n",
    "    else:\n",
    "        half = int(np.floor(item[1]/2))\n",
    "        if item[1]%2:\n",
    "            start = half+1\n",
    "        else:\n",
    "            start = half\n",
    "        for i in range(start,16-half):\n",
    "            pseudo[i] = np.nan\n",
    "        for j in item[0]:\n",
    "            if j>half:\n",
    "                pseudo[-(item[1]-j)] = 1\n",
    "                \n",
    "            else:\n",
    "                pseudo[j] = 1\n",
    "        urea_pos_analysis.append(pseudo)\n",
    "\n",
    "# Urea CN bond position \n",
    "# Set maximum bond path length 15 for our analysis\n",
    "amide_pos_analysis = [] \n",
    "for item in amide_pos:\n",
    "    pseudo = [0]*15\n",
    "    if item[1]>15:\n",
    "        continue \n",
    "    else:\n",
    "        half = int(np.floor(item[1]/2))\n",
    "        if item[1]%2:\n",
    "            start = half+1\n",
    "        else:\n",
    "            start = half\n",
    "        for i in range(start,15-half):\n",
    "            pseudo[i] = np.nan\n",
    "        for j in item[0]:\n",
    "            if j>half:\n",
    "                pseudo[-(item[1]-j)] = 1\n",
    "                \n",
    "            else:\n",
    "                pseudo[j] = 1\n",
    "        amide_pos_analysis.append(pseudo)"
   ]
  },
  {
   "cell_type": "code",
   "execution_count": 110,
   "metadata": {},
   "outputs": [
    {
     "data": {
      "image/png": "[encoded data removed]",
      "text/plain": [
       "<Figure size 432x288 with 1 Axes>"
      ]
     },
     "metadata": {
      "needs_background": "light"
     },
     "output_type": "display_data"
    },
    {
     "data": {
      "image/png": "[encoded data removed]",
      "text/plain": [
       "<Figure size 432x288 with 1 Axes>"
      ]
     },
     "metadata": {
      "needs_background": "light"
     },
     "output_type": "display_data"
    }
   ],
   "source": [
    "urea_frame = pd.DataFrame(urea_pos_analysis)\n",
    "urea_frame_ = urea_frame.sum(axis=0)\n",
    "plt.bar(urea_frame_.index+1,urea_frame_)\n",
    "plt.xlim(0.5,15.5)\n",
    "plt.xticks(np.arange(1,17,2))\n",
    "plt.xlabel(\"Atom Position\",size=15)\n",
    "plt.ylabel(\"Frequency\",size=15)\n",
    "plt.savefig(\"urea_p2_position_analysis.pdf\",dpi=300,bbox_inches=\"tight\")\n",
    "plt.show()\n",
    "\n",
    "amide_frame = pd.DataFrame(amide_pos_analysis)\n",
    "amide_frame_ = amide_frame.sum(axis=0)\n",
    "plt.bar(amide_frame_.index+1,amide_frame_)\n",
    "plt.xticks(np.arange(1,16,2))\n",
    "plt.xlabel(\"Bond Position\",size=15)\n",
    "plt.ylabel(\"Frequency\",size=15)\n",
    "plt.savefig(\"urea_p2_amide_position_analysis.pdf\",dpi=300,bbox_inches=\"tight\")\n",
    "plt.show()"
   ]
  },
  {
   "cell_type": "markdown",
   "metadata": {},
   "source": [
    "<font size=\"5\">Urea Pattern 3</font>\n",
    "\n"
   ]
  },
  {
   "cell_type": "code",
   "execution_count": 111,
   "metadata": {},
   "outputs": [],
   "source": [
    "urea_smart = Chem.MolFromSmarts(\"[N;!R]!@;-[C;!R](=O)[N;!R]\")\n",
    "urea_amide = Chem.MolFromSmarts(\"[#6][N][C](=O)[#6]\")\n",
    "urea_pos = []\n",
    "amide_pos = []\n",
    "pathsize = []\n",
    "for mol in urea_mol:\n",
    "    pistack = entropy.GetPiPiStacking(mol)\n",
    "    urea_match = mol.GetSubstructMatches(urea_smart)\n",
    "    amide_match = mol.GetSubstructMatches(urea_amide)\n",
    "    for pi in pistack:\n",
    "        shortest_path = entropy.GetShortestPathBetweenRing(mol, pi[0], pi[1])\n",
    "        path_bonds = [sorted([shortest_path[i], shortest_path[i+1]]) for i in range(len(shortest_path)-1)]\n",
    "        urea_check = [p for p in urea_match if len(set(shortest_path).intersection(set(p)))>=2]\n",
    "        amide_check = [p for p in amide_match if len(set(shortest_path).intersection(set(p)))>=3]\n",
    "        urea_C = []\n",
    "        amide_CN = []\n",
    "        for u in urea_check:\n",
    "            C = u[1]\n",
    "            if (C in shortest_path) and (C not in urea_C): # avoid repeating\n",
    "                urea_C.append(C)\n",
    "        for am in amide_check:\n",
    "            CN = sorted([am[1],am[2]])\n",
    "            if (CN in path_bonds) and (CN not in amide_CN): # avoid repeating\n",
    "                amide_CN.append(CN)\n",
    "        if any(urea_C):\n",
    "            # Determine the pi-pi stacking order A-->B or B-->A\n",
    "            forward_index = [shortest_path.index(C) for C in urea_C]\n",
    "            backward_index = [len(shortest_path)-idx-1 for idx in forward_index]\n",
    "            if min(forward_index)<=min(backward_index):\n",
    "                outcome = forward_index\n",
    "                if any(amide_CN):\n",
    "                    tmp = list(set([path_bonds.index(CN) for CN in amide_CN]))\n",
    "                    amide_pos.append([tmp,len(path_bonds)])           \n",
    "                    pathsize.append([len(path_bonds),1])\n",
    "                else:\n",
    "                    pathsize.append([len(path_bonds),0])\n",
    "            else:\n",
    "                outcome = backward_index\n",
    "                path_bonds.reverse()\n",
    "                if any(amide_CN):\n",
    "                    tmp = list(set([path_bonds.index(CN) for CN in amide_CN]))\n",
    "                    amide_pos.append([tmp, len(path_bonds)])\n",
    "                    pathsize.append([len(path_bonds),1])\n",
    "                else:\n",
    "                    pathsize.append([len(path_bonds),0])\n",
    "            urea_pos.append([outcome, len(shortest_path)])"
   ]
  },
  {
   "cell_type": "code",
   "execution_count": 112,
   "metadata": {},
   "outputs": [],
   "source": [
    "# Urea Carbon Position Analysis\n",
    "# Set maximum atom path length 16 for our analysis\n",
    "urea_pos_analysis = [] \n",
    "for item in urea_pos:\n",
    "    pseudo = [0]*16\n",
    "    if item[1]>16:\n",
    "        continue \n",
    "    else:\n",
    "        half = int(np.floor(item[1]/2))\n",
    "        if item[1]%2:\n",
    "            start = half+1\n",
    "        else:\n",
    "            start = half\n",
    "        for i in range(start,16-half):\n",
    "            pseudo[i] = np.nan\n",
    "        for j in item[0]:\n",
    "            if j>half:\n",
    "                pseudo[-(item[1]-j)] = 1\n",
    "                \n",
    "            else:\n",
    "                pseudo[j] = 1\n",
    "        urea_pos_analysis.append(pseudo)"
   ]
  },
  {
   "cell_type": "code",
   "execution_count": 113,
   "metadata": {},
   "outputs": [
    {
     "data": {
      "image/png": "[encoded data removed]",
      "text/plain": [
       "<Figure size 432x288 with 1 Axes>"
      ]
     },
     "metadata": {
      "needs_background": "light"
     },
     "output_type": "display_data"
    }
   ],
   "source": [
    "urea_frame = pd.DataFrame(urea_pos_analysis)\n",
    "urea_frame_ = urea_frame.sum(axis=0)\n",
    "plt.bar(urea_frame_.index+1,urea_frame_)\n",
    "plt.xlim(0.5,17)\n",
    "plt.xticks(np.arange(1,17,2))\n",
    "plt.xlabel(\"Atom Position\",size=15)\n",
    "plt.ylabel(\"Frequency\",size=15)\n",
    "plt.savefig(\"urea_p3_position_analysis.pdf\",dpi=300,bbox_inches=\"tight\")\n",
    "plt.show()"
   ]
  },
  {
   "cell_type": "markdown",
   "metadata": {},
   "source": [
    "# Ketone"
   ]
  },
  {
   "cell_type": "code",
   "execution_count": 9,
   "metadata": {},
   "outputs": [],
   "source": [
    "ketone = Chem.MolFromSmarts(\"[#6][C](=O)[#6]\")\n",
    "ketone_mol = []\n",
    "ketone_mol_inchi = []\n",
    "for mol in unique_mol_pi_stack:\n",
    "    output = entropy.GetPiPiStacking(mol)\n",
    "    ketonematch = mol.GetSubstructMatches(ketone)\n",
    "    for out in output:\n",
    "        path = entropy.GetShortestPathBetweenRing(mol, out[0], out[1])\n",
    "        km = [len(set(x).intersection(set(path)))==3 for x in ketonematch]\n",
    "        if any(km):\n",
    "            if Chem.MolToInchiKey(mol) not in ketone_mol_inchi:\n",
    "                ketone_mol_inchi.append(Chem.MolToInchiKey(mol))\n",
    "                ketone_mol.append(mol)"
   ]
  },
  {
   "cell_type": "code",
   "execution_count": 115,
   "metadata": {},
   "outputs": [],
   "source": [
    "ketone_smart = Chem.MolFromSmarts(\"[#6][C](=O)[#6]\")\n",
    "ketone_ether = Chem.MolFromSmarts(\"[#6&!$([C](=O))][O][#6&!$([C](=O))]\")\n",
    "ketone_ester = Chem.MolFromSmarts(\"[#6][O][C](=O)[#6]\")\n",
    "ketone_pos = []\n",
    "ester_pos = []\n",
    "ether_pos = []\n",
    "pathsize = []\n",
    "mols = []\n",
    "for mol in ketone_mol:\n",
    "    pistack = entropy.GetPiPiStacking(mol)\n",
    "    ketone_match = mol.GetSubstructMatches(ketone_smart)\n",
    "    ester_match = mol.GetSubstructMatches(ketone_ester)\n",
    "    ether_match = mol.GetSubstructMatches(ketone_ether)\n",
    "    for pi in pistack:\n",
    "        shortest_path = entropy.GetShortestPathBetweenRing(mol, pi[0], pi[1])\n",
    "        path_bonds = [sorted([shortest_path[i], shortest_path[i+1]]) for i in range(len(shortest_path)-1)]\n",
    "        ketone_check = [p for p in ketone_match if len(set(shortest_path).intersection(set(p)))==3]\n",
    "        ester_check = [p for p in ester_match if len(set(shortest_path).intersection(set(p)))==4]\n",
    "        ether_check = [p for p in ether_match if len(set(shortest_path).intersection(set(p)))==3]\n",
    "        ketone_C = []\n",
    "        ether_O = []\n",
    "        ester_CO = []\n",
    "        for u in ketone_check:\n",
    "            C = u[1]\n",
    "            if (C in shortest_path) and (C not in ketone_C): # avoid repeating\n",
    "                ketone_C.append(C)\n",
    "        for u in ether_check:\n",
    "            Oxy = u[1]\n",
    "            if (Oxy in shortest_path) and (Oxy not in ketone_C): # avoid repeating\n",
    "                ether_O.append(Oxy)\n",
    "        for es in ester_check:\n",
    "            CO = sorted([es[1],es[2]])\n",
    "            if (CO in path_bonds) and (CO not in ester_CO): # avoid repeating\n",
    "                ester_CO.append(CO)\n",
    "        if any(ketone_C):\n",
    "            # Determine the pi-pi stacking order A-->B or B-->A\n",
    "            forward_index = [shortest_path.index(C) for C in ketone_C]\n",
    "            backward_index = [len(shortest_path)-idx-1 for idx in forward_index]\n",
    "            if min(forward_index)<=min(backward_index):\n",
    "                outcome = forward_index\n",
    "                if (any(ester_CO)) and (any(ether_O)):\n",
    "                    tmp = list(set([path_bonds.index(CO) for CO in ester_CO]))\n",
    "                    ester_pos.append([tmp,len(path_bonds)])           \n",
    "                    tmp = list(set([shortest_path.index(Oxy) for Oxy in ether_O]))\n",
    "                    ether_pos.append([tmp,len(shortest_path)])  \n",
    "                    pathsize.append([len(path_bonds),3])\n",
    "                elif (any(ether_O)) and (len(ester_CO)==0):\n",
    "                    tmp = list(set([shortest_path.index(Oxy) for Oxy in ether_O]))\n",
    "                    ether_pos.append([tmp,len(shortest_path)])           \n",
    "                    pathsize.append([len(path_bonds),1])\n",
    "                    mols.append(mol)\n",
    "                elif (any(ester_CO)) and (len(ether_O)==0):\n",
    "                    tmp = list(set([path_bonds.index(CO) for CO in ester_CO]))\n",
    "                    ester_pos.append([tmp,len(path_bonds)])           \n",
    "                    pathsize.append([len(path_bonds),2])\n",
    "                else:\n",
    "                    pathsize.append([len(path_bonds),0])\n",
    "                \n",
    "            else:\n",
    "                outcome = backward_index\n",
    "                path_bonds.reverse()\n",
    "                if (any(ester_CO)) and (any(ether_O)):\n",
    "                    tmp = list(set([path_bonds.index(CO) for CO in ester_CO]))\n",
    "                    ester_pos.append([tmp,len(path_bonds)])           \n",
    "                    tmp = list(set([len(shortest_path)-shortest_path.index(Oxy)-1 for O in ether_O]))\n",
    "                    ether_pos.append([tmp,len(shortest_path)])  \n",
    "                    pathsize.append([len(path_bonds),3])\n",
    "                elif (any(ether_O)) and (len(ester_CO)==0):\n",
    "                    tmp = list(set([len(shortest_path)-shortest_path.index(Oxy)-1 for O in ether_O]))\n",
    "                    ether_pos.append([tmp,len(shortest_path)])           \n",
    "                    pathsize.append([len(path_bonds),1])\n",
    "                    mols.append(mol)\n",
    "                elif (any(ester_CO)) and (len(ether_O)==0):\n",
    "                    tmp = list(set([path_bonds.index(CO) for CO in ester_CO]))\n",
    "                    ester_pos.append([tmp,len(path_bonds)])           \n",
    "                    pathsize.append([len(path_bonds),2])\n",
    "                else:\n",
    "                    pathsize.append([len(path_bonds),0])\n",
    "            ketone_pos.append([outcome, len(shortest_path)])"
   ]
  },
  {
   "cell_type": "code",
   "execution_count": 116,
   "metadata": {},
   "outputs": [
    {
     "data": {
      "image/png": "[encoded data removed]",
      "text/plain": [
       "<Figure size 432x288 with 1 Axes>"
      ]
     },
     "metadata": {
      "needs_background": "light"
     },
     "output_type": "display_data"
    }
   ],
   "source": [
    "# Path Length\n",
    "ketone_frame = pd.DataFrame(pathsize, columns=[\"Path Length\", \"Functional Group\"])\n",
    "ketone_group = ketone_frame.groupby(\"Functional Group\")\n",
    "w_mix = ketone_group.get_group(3)\n",
    "w_ester = ketone_group.get_group(2)\n",
    "w_ether = ketone_group.get_group(1)\n",
    "ketone_only = ketone_group.get_group(0)\n",
    "w1 = ketone_only[\"Path Length\"].value_counts()\n",
    "w2 = w_ether[\"Path Length\"].value_counts()\n",
    "w3 = w_ester[\"Path Length\"].value_counts()\n",
    "w4 = w_mix[\"Path Length\"].value_counts()\n",
    "ketone_data = pd.DataFrame({\"Path Length\":list(w1.index)+list(w2.index)+list(w3.index)+list(w4.index),\n",
    "                            \"Frequency\":list(w1)+list(w2)+list(w3)+list(w4), \n",
    "                           \"Functional Group\": [\"No Ester/Ether\"]*len(w1)+[\"Ether\"]*len(w2)+[\"Ester\"]*len(w3)+[\"Ether & Ester\"]*len(w4)})\n",
    "\n",
    "sns.barplot(data=ketone_data, x=\"Path Length\",y=\"Frequency\", hue=\"Functional Group\")\n",
    "plt.legend(loc=\"upper right\")\n",
    "plt.xlabel(\"Path Length\",size=15)\n",
    "plt.ylabel(\"Frequency\",size=15)\n",
    "plt.savefig(\"ketone_path_length.pdf\",dpi=300,bbox_inches=\"tight\")\n",
    "plt.show()"
   ]
  },
  {
   "cell_type": "code",
   "execution_count": 117,
   "metadata": {},
   "outputs": [],
   "source": [
    "# Ketone C position analysis (maximum 16 atoms path)\n",
    "ketone_pos_analysis = [] \n",
    "for item in ketone_pos:\n",
    "    pseudo = [0]*16\n",
    "    if item[1]>16:\n",
    "        continue \n",
    "    else:\n",
    "        half = int(np.floor(item[1]/2))\n",
    "        if item[1]%2:\n",
    "            start = half+1\n",
    "        else:\n",
    "            start = half\n",
    "        for i in range(start,16-half):\n",
    "            pseudo[i] = np.nan\n",
    "        for j in item[0]:\n",
    "            if j>half:\n",
    "                pseudo[-(item[1]-j)] = 1\n",
    "                \n",
    "            else:\n",
    "                pseudo[j] = 1\n",
    "        ketone_pos_analysis.append(pseudo)\n",
    "        \n",
    "# Ester CO position analysis (maximum 15 bond path)\n",
    "ester_pos_analysis = [] \n",
    "for item in ester_pos:\n",
    "    pseudo = [0]*15\n",
    "    if item[1]>15:\n",
    "        continue \n",
    "    else:\n",
    "        half = int(np.floor(item[1]/2))\n",
    "        if item[1]%2:\n",
    "            start = half+1\n",
    "        else:\n",
    "            start = half\n",
    "        for i in range(start,15-half):\n",
    "            pseudo[i] = np.nan\n",
    "        for j in item[0]:\n",
    "            if j>half:\n",
    "                pseudo[-(item[1]-j)] = 1\n",
    "                \n",
    "            else:\n",
    "                pseudo[j] = 1\n",
    "        ester_pos_analysis.append(pseudo)\n",
    "\n",
    "# Ether O position analysis (maximum 16 atoms path)\n",
    "ether_pos_analysis = [] \n",
    "for item in ether_pos:\n",
    "    pseudo = [0]*16\n",
    "    if item[1]>16:\n",
    "        continue \n",
    "    else:\n",
    "        half = int(np.floor(item[1]/2))\n",
    "        if item[1]%2:\n",
    "            start = half+1\n",
    "        else:\n",
    "            start = half\n",
    "        for i in range(start,16-half):\n",
    "            pseudo[i] = np.nan\n",
    "        for j in item[0]:\n",
    "            if j>half:\n",
    "                pseudo[-(item[1]-j)] = 1\n",
    "                \n",
    "            else:\n",
    "                pseudo[j] = 1\n",
    "        ether_pos_analysis.append(pseudo)\n"
   ]
  },
  {
   "cell_type": "code",
   "execution_count": 94,
   "metadata": {},
   "outputs": [
    {
     "data": {
      "image/png": "[encoded data removed]",
      "text/plain": [
       "<Figure size 432x288 with 1 Axes>"
      ]
     },
     "metadata": {
      "needs_background": "light"
     },
     "output_type": "display_data"
    },
    {
     "data": {
      "image/png": "[encoded data removed]",
      "text/plain": [
       "<Figure size 432x288 with 1 Axes>"
      ]
     },
     "metadata": {
      "needs_background": "light"
     },
     "output_type": "display_data"
    }
   ],
   "source": [
    "ketone_frame = pd.DataFrame(ketone_pos_analysis)\n",
    "ketone_frame_ = ketone_frame.sum(axis=0)\n",
    "ether_frame = pd.DataFrame(ether_pos_analysis)\n",
    "ether_frame_ = ether_frame.sum(axis=0)\n",
    "plt.bar(ketone_frame_.index+1,ketone_frame_, label=\"Ketone\")\n",
    "plt.bar(ether_frame_.index+1,ether_frame_,bottom=ketone_frame_, label=\"Ether\")\n",
    "plt.xlim(0.5,17)\n",
    "plt.ylim(0,800)\n",
    "plt.xticks(np.arange(1,17,2))\n",
    "plt.xlabel(\"Atom Position\",size=15)\n",
    "plt.ylabel(\"Frequency\",size=15)\n",
    "plt.savefig(\"ketone_position_analysis.pdf\",dpi=300,bbox_inches=\"tight\")\n",
    "plt.show()\n",
    "\n",
    "\n",
    "ester_frame = pd.DataFrame(ester_pos_analysis)\n",
    "ester_frame_ = ester_frame.sum(axis=0)\n",
    "plt.bar(ester_frame_.index+1,ester_frame_, label=\"Ketone\")\n",
    "plt.xlim(0.5,15.5)\n",
    "plt.ylim(0,25)\n",
    "plt.xticks(np.arange(1,16,2))\n",
    "plt.xlabel(\"Bond Position\",size=15)\n",
    "plt.ylabel(\"Frequency\",size=15)\n",
    "plt.savefig(\"ketone_ester_position_analysis.pdf\",dpi=300,bbox_inches=\"tight\")\n",
    "plt.show()\n"
   ]
  },
  {
   "cell_type": "markdown",
   "metadata": {},
   "source": [
    "# Ester"
   ]
  },
  {
   "cell_type": "code",
   "execution_count": 12,
   "metadata": {},
   "outputs": [],
   "source": [
    "# Inchi Key for urea, carbamic acid and ketone\n",
    "urea_inchi = [Chem.MolToInchiKey(mol) for mol in urea_mol]\n",
    "carbamic_inchi = [Chem.MolToInchiKey(mol) for mol in carbamic_mol]\n",
    "ketone_inchi = [Chem.MolToInchiKey(mol) for mol in ketone_mol]\n",
    "mixinchi = urea_inchi+carbamic_inchi+ketone_inchi"
   ]
  },
  {
   "cell_type": "code",
   "execution_count": 13,
   "metadata": {},
   "outputs": [],
   "source": [
    "# Only consider Ester with out keton, ester and carbamic acid in the shortest path\n",
    "ester_1 = Chem.MolFromSmarts(\"[#6][C](=O)[O][#6]\")\n",
    "ester_mol = []\n",
    "ester_mol_inchi = []\n",
    "for mol in unique_mol_pi_stack:\n",
    "    pistack = entropy.GetPiPiStacking(mol)\n",
    "    inchi = Chem.MolToInchiKey(mol)\n",
    "    ester_match = mol.GetSubstructMatches(ester_1)\n",
    "    for pi in pistack:\n",
    "        shortest_path = entropy.GetShortestPathBetweenRing(mol, pi[0], pi[1])\n",
    "        ester_check = [p for p in ester_match if len(set(shortest_path).intersection(set(p)))==4]\n",
    "        if any(ester_check) and (inchi not in ester_mol_inchi) and (inchi not in mixinchi):\n",
    "            ester_mol_inchi.append(inchi)\n",
    "            ester_mol.append(mol)"
   ]
  },
  {
   "cell_type": "code",
   "execution_count": 168,
   "metadata": {},
   "outputs": [],
   "source": [
    "ester_smart = Chem.MolFromSmarts(\"[#6][C](=O)[O][#6]\")\n",
    "sulfonamide = Chem.MolFromSmarts(\"[N][S](=O)(=O)\")\n",
    "ester_ether = Chem.MolFromSmarts(\"[#6&!$([C](=O))][O][#6&!$([C](=O))]\")\n",
    "ester_pos = []\n",
    "sulfonamide_pos = []\n",
    "ether_pos = []\n",
    "pathsize = []\n",
    "for mol in ester_mol:\n",
    "    pistack = entropy.GetPiPiStacking(mol)\n",
    "    ester_match = mol.GetSubstructMatches(ester_smart)\n",
    "    sulfonamide_match = mol.GetSubstructMatches(sulfonamide)\n",
    "    ether_match = mol.GetSubstructMatches(ester_ether)\n",
    "    for pi in pistack:\n",
    "        shortest_path = entropy.GetShortestPathBetweenRing(mol, pi[0], pi[1])\n",
    "        path_bonds = [sorted([shortest_path[i], shortest_path[i+1]]) for i in range(len(shortest_path)-1)]\n",
    "        ester_check = [p for p in ester_match if len(set(shortest_path).intersection(set(p)))==4]\n",
    "        ether_check = [p for p in ether_match if len(set(shortest_path).intersection(set(p)))==3]\n",
    "        sulfonamide_check = [p for p in sulfonamide_match if len(set(shortest_path).intersection(set(p)))==2]\n",
    "        ester_CO = []\n",
    "        sulfonamide_NS = []\n",
    "        ether_O = []\n",
    "        for co in ester_check:\n",
    "            CO = sorted([co[1],co[3]])\n",
    "            if (CO in path_bonds) and (CO not in ester_CO): # avoid repeating\n",
    "                ester_CO.append(CO)\n",
    "        for ns in sulfonamide_check:\n",
    "            NS = sorted([ns[0],ns[1]])\n",
    "            if (NS in path_bonds) and (NS not in sulfonamide_NS): # avoid repeating\n",
    "                sulfonamide_NS.append(NS)   \n",
    "        for oo in ether_check:\n",
    "            O = oo[1]\n",
    "            if (O in shortest_path) and (O not in ether_O): # avoid repeating\n",
    "                ether_O.append(O)   \n",
    "        if any(ester_CO):\n",
    "            # Determine the pi-pi stacking order A-->B or B-->A\n",
    "            forward_index = [path_bonds.index(CO) for CO in ester_CO]\n",
    "            backward_index = [len(path_bonds)-idx-1 for idx in forward_index]\n",
    "            if min(forward_index)<=min(backward_index):\n",
    "                outcome = forward_index\n",
    "                if any(sulfonamide_NS) and len(ether_O)==0:\n",
    "                    tmp = list(set([path_bonds.index(NS) for NS in sulfonamide_NS]))\n",
    "                    sulfonamide_pos.append([tmp,len(path_bonds)])  \n",
    "                    pathsize.append([len(path_bonds),1])\n",
    "                elif any(ether_O) and len(sulfonamide_NS)==0:\n",
    "                    tmp = list(set([shortest_path.index(O) for O in ether_O]))\n",
    "                    ether_pos.append([tmp,len(shortest_path)])  \n",
    "                    pathsize.append([len(path_bonds),2])\n",
    "                else:\n",
    "                    pathsize.append([len(path_bonds),0])\n",
    "                \n",
    "            else:\n",
    "                outcome = backward_index\n",
    "                path_bonds.reverse()\n",
    "                re_path = list(shortest_path)\n",
    "                re_path.reverse()\n",
    "                if any(sulfonamide_NS):\n",
    "                    tmp = list(set([path_bonds.index(NS) for NS in sulfonamide_NS]))\n",
    "                    sulfonamide_pos.append([tmp,len(path_bonds)])  \n",
    "                    pathsize.append([len(path_bonds),1])\n",
    "                elif any(ether_O) and len(sulfonamide_NS)==0:\n",
    "                    tmp = list(set([re_path.index(O) for O in ether_O]))\n",
    "                    ether_pos.append([tmp,len(shortest_path)])  \n",
    "                    pathsize.append([len(path_bonds),2])\n",
    "                else:\n",
    "                    pathsize.append([len(path_bonds),0])\n",
    "            ester_pos.append([outcome, len(path_bonds)])"
   ]
  },
  {
   "cell_type": "code",
   "execution_count": 170,
   "metadata": {},
   "outputs": [
    {
     "data": {
      "image/png": "[encoded data removed]",
      "text/plain": [
       "<Figure size 432x288 with 1 Axes>"
      ]
     },
     "metadata": {
      "needs_background": "light"
     },
     "output_type": "display_data"
    }
   ],
   "source": [
    "# Path Length\n",
    "ester_frame = pd.DataFrame(pathsize, columns=[\"Path Length\", \"Functional Group\"])\n",
    "ester_group = ester_frame.groupby(\"Functional Group\")\n",
    "w_ether = ester_group.get_group(2)\n",
    "w_sulfonamide = ester_group.get_group(1)\n",
    "ester_only = ester_group.get_group(0)\n",
    "w1 = ester_only[\"Path Length\"].value_counts()\n",
    "w2 = w_sulfonamide[\"Path Length\"].value_counts()\n",
    "w3 = w_ether[\"Path Length\"].value_counts()\n",
    "ester_data = pd.DataFrame({\"Path Length\":list(w1.index)+list(w2.index)+list(w3.index),\n",
    "                            \"Frequency\":list(w1)+list(w2)+list(w3), \n",
    "                           \"Functional Group\": [\"No Sulfonamide/Ether\"]*len(w1)+[\"Sulfonamide\"]*len(w2)+[\"Ether\"]*len(w3)})\n",
    "\n",
    "sns.barplot(data=ester_data, x=\"Path Length\",y=\"Frequency\", hue=\"Functional Group\")\n",
    "plt.legend(loc=\"upper right\")\n",
    "plt.xlabel(\"Path Length\",size=15)\n",
    "plt.ylabel(\"Frequency\",size=15)\n",
    "plt.savefig(\"ester_path_length.pdf\",dpi=300,bbox_inches=\"tight\")\n",
    "plt.show()"
   ]
  },
  {
   "cell_type": "code",
   "execution_count": 171,
   "metadata": {},
   "outputs": [],
   "source": [
    "# Ester CO bond position analysis (maximum 15 bond path length)\n",
    "ester_pos_analysis = [] \n",
    "for item in ester_pos:\n",
    "    pseudo = [0]*15\n",
    "    if item[1]>15:\n",
    "        continue \n",
    "    else:\n",
    "        half = int(np.floor(item[1]/2))\n",
    "        if item[1]%2:\n",
    "            start = half+1\n",
    "        else:\n",
    "            start = half\n",
    "        for i in range(start,15-half):\n",
    "            pseudo[i] = np.nan\n",
    "        for j in item[0]:\n",
    "            if j>half:\n",
    "                pseudo[-(item[1]-j)] = 1\n",
    "                \n",
    "            else:\n",
    "                pseudo[j] = 1\n",
    "        ester_pos_analysis.append(pseudo)\n",
    "        \n",
    "# sulfonamide NS position analysis (maximum 15 bond path)\n",
    "sulfonamide_pos_analysis = [] \n",
    "for item in sulfonamide_pos:\n",
    "    pseudo = [0]*15\n",
    "    if item[1]>15:\n",
    "        continue \n",
    "    else:\n",
    "        half = int(np.floor(item[1]/2))\n",
    "        if item[1]%2:\n",
    "            start = half+1\n",
    "        else:\n",
    "            start = half\n",
    "        for i in range(start,15-half):\n",
    "            pseudo[i] = np.nan\n",
    "        for j in item[0]:\n",
    "            if j>half:\n",
    "                pseudo[-(item[1]-j)] = 1\n",
    "                \n",
    "            else:\n",
    "                pseudo[j] = 1\n",
    "        sulfonamide_pos_analysis.append(pseudo)\n",
    "\n",
    "# Ether O position analysis (maximum 16 atoms path)\n",
    "ether_pos_analysis = [] \n",
    "for item in ether_pos:\n",
    "    pseudo = [0]*16\n",
    "    if item[1]>16:\n",
    "        continue \n",
    "    else:\n",
    "        half = int(np.floor(item[1]/2))\n",
    "        if item[1]%2:\n",
    "            start = half+1\n",
    "        else:\n",
    "            start = half\n",
    "        for i in range(start,16-half):\n",
    "            pseudo[i] = np.nan\n",
    "        for j in item[0]:\n",
    "            if j>half:\n",
    "                pseudo[-(item[1]-j)] = 1\n",
    "                \n",
    "            else:\n",
    "                pseudo[j] = 1\n",
    "        ether_pos_analysis.append(pseudo)\n"
   ]
  },
  {
   "cell_type": "code",
   "execution_count": 172,
   "metadata": {},
   "outputs": [
    {
     "data": {
      "image/png": "[encoded data removed]",
      "text/plain": [
       "<Figure size 432x288 with 1 Axes>"
      ]
     },
     "metadata": {
      "needs_background": "light"
     },
     "output_type": "display_data"
    },
    {
     "data": {
      "image/png": "[encoded data removed]",
      "text/plain": [
       "<Figure size 432x288 with 1 Axes>"
      ]
     },
     "metadata": {
      "needs_background": "light"
     },
     "output_type": "display_data"
    }
   ],
   "source": [
    "ester_frame = pd.DataFrame(ester_pos_analysis)\n",
    "ester_frame_ = ester_frame.sum(axis=0)\n",
    "sulfonamide_frame = pd.DataFrame(sulfonamide_pos_analysis)\n",
    "sulfonamide_frame_ = sulfonamide_frame.sum(axis=0)\n",
    "plt.bar(ester_frame_.index+1,ester_frame_, label=\"ester\")\n",
    "plt.bar(sulfonamide_frame_.index+1,sulfonamide_frame_,bottom=ester_frame_, label=\"sulfonamide\")\n",
    "plt.xlim(0.5,17)\n",
    "plt.ylim(0,650)\n",
    "plt.xticks(np.arange(1,17,2))\n",
    "plt.xlabel(\"Bond Position\",size=15)\n",
    "plt.ylabel(\"Frequency\",size=15)\n",
    "plt.savefig(\"ester_position_analysis.pdf\",dpi=300,bbox_inches=\"tight\")\n",
    "plt.show()\n",
    "\n",
    "ether_frame = pd.DataFrame(ether_pos_analysis)\n",
    "ether_frame_ = ether_frame.sum(axis=0)\n",
    "plt.bar(ether_frame_.index+1,ether_frame_, label=\"ether\")\n",
    "plt.xlim(0.5,16.5)\n",
    "plt.ylim(0,100)\n",
    "plt.xticks(np.arange(1,17,2))\n",
    "plt.xlabel(\"Atom Position\",size=15)\n",
    "plt.ylabel(\"Frequency\",size=15)\n",
    "plt.savefig(\"ester_ether_position_analysis.pdf\",dpi=300,bbox_inches=\"tight\")\n",
    "plt.show()"
   ]
  },
  {
   "cell_type": "markdown",
   "metadata": {},
   "source": [
    "# Ether"
   ]
  },
  {
   "cell_type": "code",
   "execution_count": 14,
   "metadata": {},
   "outputs": [],
   "source": [
    "# Inchi Key for urea, carbamic acid and ketone\n",
    "urea_inchi = [Chem.MolToInchiKey(mol) for mol in urea_mol]\n",
    "carbamic_inchi = [Chem.MolToInchiKey(mol) for mol in carbamic_mol]\n",
    "ketone_inchi = [Chem.MolToInchiKey(mol) for mol in ketone_mol]\n",
    "ester_inchi = [Chem.MolToInchiKey(mol) for mol in ester_mol]\n",
    "mixinchi = urea_inchi+carbamic_inchi+ketone_inchi+ester_inchi"
   ]
  },
  {
   "cell_type": "code",
   "execution_count": 15,
   "metadata": {},
   "outputs": [],
   "source": [
    "ether_1 = Chem.MolFromSmarts(\"[#6&!$([C](=O))][O][#6&!$([C](=O))]\")\n",
    "ether_mol = []\n",
    "ether_mol_inchi = []\n",
    "for mol in unique_mol_pi_stack:\n",
    "    pistack = entropy.GetPiPiStacking(mol)\n",
    "    inchi = Chem.MolToInchiKey(mol)\n",
    "    ether_match = mol.GetSubstructMatches(ether_1)\n",
    "    for pi in pistack:\n",
    "        shortest_path = entropy.GetShortestPathBetweenRing(mol, pi[0], pi[1])\n",
    "        ether_check = [p for p in ether_match if len(set(shortest_path).intersection(set(p)))==3]\n",
    "        if any(ether_check) and (inchi not in ether_mol_inchi) and (inchi not in mixinchi):\n",
    "            ether_mol_inchi.append(inchi)\n",
    "            ether_mol.append(mol)"
   ]
  },
  {
   "cell_type": "code",
   "execution_count": 187,
   "metadata": {},
   "outputs": [],
   "source": [
    "ether_smart = Chem.MolFromSmarts(\"[#6&!$([C](=O))][O][#6&!$([C](=O))]\")\n",
    "ether_amide = Chem.MolFromSmarts(\"[#6][N][C](=O)[#6]\")\n",
    "ether_pos = []\n",
    "amide_pos = []\n",
    "pathsize = []\n",
    "for mol in ether_mol:\n",
    "    pistack = entropy.GetPiPiStacking(mol)\n",
    "    ether_match = mol.GetSubstructMatches(ether_smart)\n",
    "    amide_match = mol.GetSubstructMatches(ether_amide)\n",
    "    for pi in pistack:\n",
    "        shortest_path = entropy.GetShortestPathBetweenRing(mol, pi[0], pi[1])\n",
    "        path_bonds = [sorted([shortest_path[i], shortest_path[i+1]]) for i in range(len(shortest_path)-1)]\n",
    "        ether_check = [p for p in ether_match if len(set(shortest_path).intersection(set(p)))==3]\n",
    "        amide_check = [p for p in amide_match if len(set(shortest_path).intersection(set(p)))==4]\n",
    "        amide_CN = []\n",
    "        ether_O = []\n",
    "        for cn in amide_check:\n",
    "            CN = sorted([cn[1],cn[2]])\n",
    "            if (CN in path_bonds) and (CN not in amide_CN): # avoid repeating\n",
    "                amide_CN.append(CN)   \n",
    "        for oo in ether_check:\n",
    "            O = oo[1]\n",
    "            if (O in shortest_path) and (O not in ether_O): # avoid repeating\n",
    "                ether_O.append(O)   \n",
    "        if any(ether_O):\n",
    "            # Determine the pi-pi stacking order A-->B or B-->A\n",
    "            forward_index = [shortest_path.index(O) for O in ether_O]\n",
    "            backward_index = [len(shortest_path)-idx-1 for idx in forward_index]\n",
    "            if min(forward_index)<=min(backward_index):\n",
    "                outcome = forward_index\n",
    "                if any(amide_CN):\n",
    "                    tmp = list(set([path_bonds.index(CN) for CN in amide_CN]))\n",
    "                    amide_pos.append([tmp,len(path_bonds)])  \n",
    "                    pathsize.append([len(path_bonds),1])\n",
    "                else:\n",
    "                    pathsize.append([len(path_bonds),0])\n",
    "            else:\n",
    "                outcome = backward_index\n",
    "                path_bonds.reverse()\n",
    "                re_path = list(shortest_path)\n",
    "                re_path.reverse()\n",
    "                if any(amide_CN):\n",
    "                    tmp = list(set([path_bonds.index(CN) for CN in amide_CN]))\n",
    "                    amide_pos.append([tmp,len(path_bonds)])  \n",
    "                    pathsize.append([len(path_bonds),1])\n",
    "                else:\n",
    "                    pathsize.append([len(path_bonds),0])\n",
    "            ether_pos.append([outcome, len(shortest_path)])"
   ]
  },
  {
   "cell_type": "code",
   "execution_count": 205,
   "metadata": {},
   "outputs": [
    {
     "data": {
      "image/png": "[encoded data removed]",
      "text/plain": [
       "<Figure size 432x288 with 1 Axes>"
      ]
     },
     "metadata": {
      "needs_background": "light"
     },
     "output_type": "display_data"
    }
   ],
   "source": [
    "# Path Length\n",
    "ether_frame = pd.DataFrame(pathsize, columns=[\"Path Length\", \"Functional Group\"])\n",
    "ether_group = ether_frame.groupby(\"Functional Group\")\n",
    "w_amide = ether_group.get_group(1)\n",
    "ether_only = ether_group.get_group(0)\n",
    "w1 = ether_only[\"Path Length\"].value_counts()\n",
    "w2 = w_amide[\"Path Length\"].value_counts()\n",
    "ether_data = pd.DataFrame({\"Path Length\":list(w1.index)+list(w2.index),\n",
    "                            \"Frequency\":list(w1)+list(w2), \n",
    "                           \"Functional Group\": [\"No Amide\"]*len(w1)+[\"Amide\"]*len(w2)})\n",
    "\n",
    "sns.barplot(data=ether_data, x=\"Path Length\",y=\"Frequency\", hue=\"Functional Group\")\n",
    "plt.legend(loc=\"upper right\")\n",
    "plt.xlabel(\"Path Length\",size=15)\n",
    "plt.ylabel(\"Frequency\",size=15)\n",
    "plt.savefig(\"ether_path_length.pdf\",dpi=300,bbox_inches=\"tight\")\n",
    "plt.show()"
   ]
  },
  {
   "cell_type": "code",
   "execution_count": 190,
   "metadata": {},
   "outputs": [],
   "source": [
    "ether_pos_analysis = [] \n",
    "for item in ether_pos:\n",
    "    pseudo = [0]*16\n",
    "    if item[1]>16:\n",
    "        continue \n",
    "    else:\n",
    "        half = int(np.floor(item[1]/2))\n",
    "        if item[1]%2:\n",
    "            start = half+1\n",
    "        else:\n",
    "            start = half\n",
    "        for i in range(start,16-half):\n",
    "            pseudo[i] = np.nan\n",
    "        for j in item[0]:\n",
    "            if j>half:\n",
    "                pseudo[-(item[1]-j)] = 1\n",
    "                \n",
    "            else:\n",
    "                pseudo[j] = 1\n",
    "        ether_pos_analysis.append(pseudo)\n",
    "        \n",
    "# amide NS position analysis (maximum 15 bond path)\n",
    "amide_pos_analysis = [] \n",
    "for item in amide_pos:\n",
    "    pseudo = [0]*15\n",
    "    if item[1]>15:\n",
    "        continue \n",
    "    else:\n",
    "        half = int(np.floor(item[1]/2))\n",
    "        if item[1]%2:\n",
    "            start = half+1\n",
    "        else:\n",
    "            start = half\n",
    "        for i in range(start,15-half):\n",
    "            pseudo[i] = np.nan\n",
    "        for j in item[0]:\n",
    "            if j>half:\n",
    "                pseudo[-(item[1]-j)] = 1\n",
    "                \n",
    "            else:\n",
    "                pseudo[j] = 1\n",
    "        amide_pos_analysis.append(pseudo)\n"
   ]
  },
  {
   "cell_type": "code",
   "execution_count": 208,
   "metadata": {},
   "outputs": [
    {
     "data": {
      "image/png": "[encoded data removed]",
      "text/plain": [
       "<Figure size 432x288 with 1 Axes>"
      ]
     },
     "metadata": {
      "needs_background": "light"
     },
     "output_type": "display_data"
    },
    {
     "data": {
      "image/png": "[encoded data removed]",
      "text/plain": [
       "<Figure size 432x288 with 1 Axes>"
      ]
     },
     "metadata": {
      "needs_background": "light"
     },
     "output_type": "display_data"
    }
   ],
   "source": [
    "ether_frame = pd.DataFrame(ether_pos_analysis)\n",
    "ether_frame_ = ether_frame.sum(axis=0)\n",
    "plt.bar(ether_frame_.index+1,ether_frame_, label=\"ether\")\n",
    "plt.xlim(0.5,17)\n",
    "plt.ylim(0,1200)\n",
    "plt.xticks(np.arange(1,17,2))\n",
    "plt.xlabel(\"Atom Position\",size=15)\n",
    "plt.ylabel(\"Frequency\",size=15)\n",
    "plt.savefig(\"ether_position_analysis.pdf\",dpi=300,bbox_inches=\"tight\")\n",
    "plt.show()\n",
    "\n",
    "amide_frame = pd.DataFrame(amide_pos_analysis)\n",
    "amide_frame_ = amide_frame.sum(axis=0)\n",
    "plt.bar(amide_frame_.index+1,amide_frame_, label=\"amide\")\n",
    "plt.xlim(0.5,16.5)\n",
    "plt.ylim(0,700)\n",
    "plt.xticks(np.arange(1,16,2))\n",
    "plt.xlabel(\"Bond Position\",size=15)\n",
    "plt.ylabel(\"Frequency\",size=15)\n",
    "plt.savefig(\"ester_amide_position_analysis.pdf\",dpi=300,bbox_inches=\"tight\")\n",
    "plt.show()"
   ]
  },
  {
   "cell_type": "markdown",
   "metadata": {},
   "source": [
    "# Amide"
   ]
  },
  {
   "cell_type": "code",
   "execution_count": 16,
   "metadata": {},
   "outputs": [],
   "source": [
    "# Inchi Key for urea, carbamic acid and ketone\n",
    "urea_inchi = [Chem.MolToInchiKey(mol) for mol in urea_mol]\n",
    "carbamic_inchi = [Chem.MolToInchiKey(mol) for mol in carbamic_mol]\n",
    "ketone_inchi = [Chem.MolToInchiKey(mol) for mol in ketone_mol]\n",
    "ester_inchi = [Chem.MolToInchiKey(mol) for mol in ester_mol]\n",
    "ether_inchi = [Chem.MolToInchiKey(mol) for mol in ether_mol]\n",
    "mixinchi = urea_inchi+carbamic_inchi+ketone_inchi+ester_inchi+ether_inchi"
   ]
  },
  {
   "cell_type": "code",
   "execution_count": 17,
   "metadata": {},
   "outputs": [],
   "source": [
    "amide_1 = Chem.MolFromSmarts(\"[#6][N][C](=O)[#6]\")\n",
    "amide_mol = []\n",
    "amide_mol_inchi = []\n",
    "for mol in unique_mol_pi_stack:\n",
    "    pistack = entropy.GetPiPiStacking(mol)\n",
    "    inchi = Chem.MolToInchiKey(mol)\n",
    "    amide_match = mol.GetSubstructMatches(amide_1)\n",
    "    for pi in pistack:\n",
    "        shortest_path = entropy.GetShortestPathBetweenRing(mol, pi[0], pi[1])\n",
    "        amide_check = [p for p in amide_match if len(set(shortest_path).intersection(set(p)))==4]\n",
    "        if any(amide_check) and (inchi not in amide_mol_inchi) and (inchi not in mixinchi):\n",
    "            amide_mol_inchi.append(inchi)\n",
    "            amide_mol.append(mol)"
   ]
  },
  {
   "cell_type": "code",
   "execution_count": 25,
   "metadata": {},
   "outputs": [],
   "source": [
    "linear_chain = []\n",
    "mix_chain = []\n",
    "for mol in amide_mol:\n",
    "    pistack = entropy.GetPiPiStacking(mol)\n",
    "    tmp = []\n",
    "    for pi in pistack:\n",
    "        shortest_path = entropy.GetShortestPathBetweenRing(mol, pi[0], pi[1])\n",
    "        tmp.append(any([mol.GetAtomWithIdx(x).IsInRing() for x in range(1,len(shortest_path)-1)]))\n",
    "    if any(tmp):\n",
    "        mix_chain.append(mol)\n",
    "    else:\n",
    "        linear_chain.append(mol)"
   ]
  },
  {
   "cell_type": "code",
   "execution_count": 40,
   "metadata": {},
   "outputs": [],
   "source": [
    "amide_smart_1 = Chem.MolFromSmarts(\"[#6][N;!R][C;!R](=O)[#6]\")\n",
    "amide_pos = []\n",
    "pathsize = []\n",
    "for mol in linear_chain:\n",
    "    pistack = entropy.GetPiPiStacking(mol)\n",
    "    amide_1_match = mol.GetSubstructMatches(amide_smart_1)\n",
    "    for pi in pistack:\n",
    "        shortest_path = entropy.GetShortestPathBetweenRing(mol, pi[0], pi[1])\n",
    "        path_bonds = [sorted([shortest_path[i], shortest_path[i+1]]) for i in range(len(shortest_path)-1)]\n",
    "        amide_1_check = [p for p in amide_1_match if len(set(shortest_path).intersection(set(p)))==4]\n",
    "        amide_1_CN = []\n",
    "        for cn in amide_1_check:\n",
    "            CN = sorted([cn[1],cn[2]])\n",
    "            if (CN in path_bonds) and (CN not in amide_1_CN): # avoid repeating\n",
    "                amide_1_CN.append(CN)       \n",
    "        if any(amide_1_CN):\n",
    "            # Determine the pi-pi stacking order A-->B or B-->A\n",
    "            forward_index = [path_bonds.index(CN) for CN in amide_1_CN]\n",
    "            backward_index = [len(path_bonds)-idx-1 for idx in forward_index]\n",
    "            if min(forward_index)<=min(backward_index):\n",
    "                outcome = forward_index\n",
    "                amide_pos.append([outcome, len(path_bonds)])\n",
    "                pathsize.append(len(path_bonds))\n",
    "            else:\n",
    "                outcome = backward_index\n",
    "                amide_pos.append([outcome, len(path_bonds)])\n",
    "                pathsize.append(len(path_bonds))"
   ]
  },
  {
   "cell_type": "code",
   "execution_count": 51,
   "metadata": {},
   "outputs": [
    {
     "data": {
      "image/png": "[encoded data removed]",
      "text/plain": [
       "<Figure size 432x288 with 1 Axes>"
      ]
     },
     "metadata": {
      "needs_background": "light"
     },
     "output_type": "display_data"
    }
   ],
   "source": [
    "# Path Length\n",
    "amide_frame = pd.DataFrame(pathsize, columns=[\"Path Length\"])\n",
    "amide_count = amide_frame[\"Path Length\"].value_counts()\n",
    "plt.bar(amide_count.index,amide_count)\n",
    "plt.xlim(0,17)\n",
    "plt.xlabel(\"Path Length\",size=15)\n",
    "plt.ylabel(\"Frequency\",size=15)\n",
    "plt.savefig(\"amide_1_path_length.pdf\",dpi=300,bbox_inches=\"tight\")\n",
    "plt.show()"
   ]
  },
  {
   "cell_type": "code",
   "execution_count": 47,
   "metadata": {},
   "outputs": [],
   "source": [
    "# amide NS position analysis (maximum 15 bond path)\n",
    "amide_pos_analysis = [] \n",
    "for item in amide_pos:\n",
    "    pseudo = [0]*15\n",
    "    if item[1]>15:\n",
    "        continue \n",
    "    else:\n",
    "        half = int(np.floor(item[1]/2))\n",
    "        if item[1]%2:\n",
    "            start = half+1\n",
    "        else:\n",
    "            start = half\n",
    "        for i in range(start,15-half):\n",
    "            pseudo[i] = np.nan\n",
    "        for j in item[0]:\n",
    "            if j>half:\n",
    "                pseudo[-(item[1]-j)] = 1\n",
    "                \n",
    "            else:\n",
    "                pseudo[j] = 1\n",
    "        amide_pos_analysis.append(pseudo)"
   ]
  },
  {
   "cell_type": "code",
   "execution_count": 50,
   "metadata": {},
   "outputs": [
    {
     "data": {
      "image/png": "[encoded data removed]",
      "text/plain": [
       "<Figure size 432x288 with 1 Axes>"
      ]
     },
     "metadata": {
      "needs_background": "light"
     },
     "output_type": "display_data"
    }
   ],
   "source": [
    "amide_frame = pd.DataFrame(amide_pos_analysis)\n",
    "amide_frame_ = amide_frame.sum(axis=0)\n",
    "plt.bar(amide_frame_.index+1,amide_frame_, label=\"amide\")\n",
    "plt.xlim(0.5,16.5)\n",
    "plt.ylim(0,200)\n",
    "plt.xticks(np.arange(1,16,2))\n",
    "plt.xlabel(\"Bond Position\",size=15)\n",
    "plt.ylabel(\"Frequency\",size=15)\n",
    "plt.savefig(\"amide_1_position_analysis.pdf\",dpi=300,bbox_inches=\"tight\")\n",
    "plt.show()"
   ]
  },
  {
   "cell_type": "code",
   "execution_count": 104,
   "metadata": {},
   "outputs": [],
   "source": [
    "amide_smart_1 = Chem.MolFromSmarts(\"[#6][N;R]@[C;R](=O)[#6]\")\n",
    "amide_smart_2 = Chem.MolFromSmarts(\"[#6][N;R][C;!R](=O)[#6]\")\n",
    "amide_smart_3 = Chem.MolFromSmarts(\"[#6][N;!R][C;!R](=O)[#6]\")\n",
    "amide_1_pos = []\n",
    "amide_2_pos = []\n",
    "amide_1_3_pos = []\n",
    "amide_2_3_pos = []\n",
    "amide_3_pos = []\n",
    "pathsize = []\n",
    "for mol in mix_chain:\n",
    "    pistack = entropy.GetPiPiStacking(mol)\n",
    "    amide_1_match = mol.GetSubstructMatches(amide_smart_1)\n",
    "    amide_2_match = mol.GetSubstructMatches(amide_smart_2)\n",
    "    amide_3_match = mol.GetSubstructMatches(amide_smart_3)\n",
    "    for pi in pistack:\n",
    "        shortest_path = entropy.GetShortestPathBetweenRing(mol, pi[0], pi[1])\n",
    "        path_bonds = [sorted([shortest_path[i], shortest_path[i+1]]) for i in range(len(shortest_path)-1)]\n",
    "        amide_1_check = [p for p in amide_1_match if len(set(shortest_path).intersection(set(p)))==4]\n",
    "        amide_2_check = [p for p in amide_2_match if len(set(shortest_path).intersection(set(p)))==4]\n",
    "        amide_3_check = [p for p in amide_3_match if len(set(shortest_path).intersection(set(p)))==4]\n",
    "        amide_1_CN = []\n",
    "        amide_2_CN = []\n",
    "        amide_3_CN = []\n",
    "        for cn in amide_1_check:\n",
    "            CN = sorted([cn[1],cn[2]])\n",
    "            if (CN in path_bonds) and (CN not in amide_1_CN): # avoid repeating\n",
    "                amide_1_CN.append(CN)   \n",
    "        for cn in amide_2_check:\n",
    "            CN = sorted([cn[1],cn[2]])\n",
    "            if (CN in path_bonds) and (CN not in amide_2_CN): # avoid repeating\n",
    "                amide_2_CN.append(CN)   \n",
    "        for cn in amide_3_check:\n",
    "            CN = sorted([cn[1],cn[2]])\n",
    "            if (CN in path_bonds) and (CN not in amide_3_CN): # avoid repeating\n",
    "                amide_3_CN.append(CN)   \n",
    "        \n",
    "        if any(amide_1_CN):\n",
    "            # Determine the pi-pi stacking order A-->B or B-->A\n",
    "            forward_index = [path_bonds.index(CN) for CN in amide_1_CN]\n",
    "            backward_index = [len(path_bonds)-idx-1 for idx in forward_index]\n",
    "            if min(forward_index)<=min(backward_index):\n",
    "                outcome = forward_index\n",
    "                amide_1_pos.append([forward_index,len(path_bonds)])  \n",
    "                if any(amide_3_CN):\n",
    "                    pathsize.append([len(path_bonds),1])\n",
    "                    tmp = [path_bonds.index(CN) for CN in amide_3_CN]\n",
    "                    amide_1_3_pos.append([tmp, len(path_bonds)])\n",
    "                else:\n",
    "                    pathsize.append([len(path_bonds),0])\n",
    "            else:\n",
    "                outcome = backward_index\n",
    "                amide_1_pos.append([backward_index,len(path_bonds)])  \n",
    "                path_bonds.reverse()\n",
    "                if any(amide_3_CN):\n",
    "                    pathsize.append([len(path_bonds),1])\n",
    "                    tmp = [path_bonds.index(CN) for CN in amide_3_CN]\n",
    "                    amide_1_3_pos.append([tmp, len(path_bonds)])\n",
    "                else:\n",
    "                    pathsize.append([len(path_bonds),0])\n",
    "        elif any(amide_2_CN):\n",
    "            # Determine the pi-pi stacking order A-->B or B-->A\n",
    "            forward_index = [path_bonds.index(CN) for CN in amide_2_CN]\n",
    "            backward_index = [len(path_bonds)-idx-1 for idx in forward_index]\n",
    "            if min(forward_index)<=min(backward_index):\n",
    "                outcome = forward_index\n",
    "                amide_2_pos.append([forward_index,len(path_bonds)])  \n",
    "                pathsize.append([len(path_bonds),1])\n",
    "                if any(amide_3_CN):\n",
    "                    tmp = [path_bonds.index(CN) for CN in amide_3_CN]\n",
    "                    amide_2_3_pos.append([tmp, len(path_bonds)])\n",
    "                                    \n",
    "            else:\n",
    "                outcome = backward_index\n",
    "                amide_2_pos.append([backward_index,len(path_bonds)])  \n",
    "                path_bonds.reverse()\n",
    "                pathsize.append([len(path_bonds),2])\n",
    "                if any(amide_3_CN):\n",
    "                    tmp = [path_bonds.index(CN) for CN in amide_3_CN]\n",
    "                    amide_2_3_pos.append([tmp, len(path_bonds)])\n",
    "                    \n",
    "        elif any(amide_3_CN):\n",
    "            forward_index = [path_bonds.index(CN) for CN in amide_3_CN]\n",
    "            backward_index = [len(path_bonds)-idx-1 for idx in forward_index]\n",
    "            if min(forward_index)<=min(backward_index):\n",
    "                outcome = forward_index\n",
    "            else:\n",
    "                outcome = backward_index\n",
    "            pathsize.append([len(path_bonds),0])\n",
    "            amide_3_pos.append([outcome, len(path_bonds)])\n",
    "        else:\n",
    "            continue"
   ]
  },
  {
   "cell_type": "code",
   "execution_count": 105,
   "metadata": {},
   "outputs": [
    {
     "data": {
      "image/png": "[encoded data removed]",
      "text/plain": [
       "<Figure size 432x288 with 1 Axes>"
      ]
     },
     "metadata": {
      "needs_background": "light"
     },
     "output_type": "display_data"
    }
   ],
   "source": [
    "# Path Length\n",
    "amide_frame = pd.DataFrame(pathsize, columns=[\"Path Length\", \"Form\"])\n",
    "amide_group = amide_frame.groupby(\"Form\")\n",
    "two = amide_group.get_group(2)\n",
    "one = amide_group.get_group(1)\n",
    "zero = amide_group.get_group(0)\n",
    "w0 = zero[\"Path Length\"].value_counts()\n",
    "w1 = one[\"Path Length\"].value_counts()\n",
    "w2 = two[\"Path Length\"].value_counts()\n",
    "amide_data = pd.DataFrame({\"Path Length\":list(w0.index)+list(w1.index)+list(w2.index),\n",
    "                            \"Frequency\":list(w0)+list(w1)+list(w2), \n",
    "                           \"Form\": [\"Amide in ring\"]*len(w0)+[\"N in ring\"]*len(w1)+[\"Linear Amide\"]*len(w2)})\n",
    "\n",
    "sns.barplot(data=amide_data, x=\"Path Length\",y=\"Frequency\", hue=\"Form\")\n",
    "plt.legend(loc=\"upper right\")\n",
    "plt.xlabel(\"Path Length\",size=15)\n",
    "plt.ylabel(\"Frequency\",size=15)\n",
    "plt.ylim(0,600)\n",
    "plt.savefig(\"amide_2_path_length.pdf\",dpi=300,bbox_inches=\"tight\")\n",
    "plt.show()"
   ]
  },
  {
   "cell_type": "code",
   "execution_count": 106,
   "metadata": {},
   "outputs": [],
   "source": [
    "# amide_1 NS position analysis (maximum 15 bond path)\n",
    "amide_1_pos_analysis = [] \n",
    "for item in amide_1_pos:\n",
    "    pseudo = [0]*15\n",
    "    if item[1]>15:\n",
    "        continue \n",
    "    else:\n",
    "        half = int(np.floor(item[1]/2))\n",
    "        if item[1]%2:\n",
    "            start = half+1\n",
    "        else:\n",
    "            start = half\n",
    "        for i in range(start,15-half):\n",
    "            pseudo[i] = np.nan\n",
    "        for j in item[0]:\n",
    "            if j>half:\n",
    "                pseudo[-(item[1]-j)] = 1\n",
    "                \n",
    "            else:\n",
    "                pseudo[j] = 1\n",
    "        amide_1_pos_analysis.append(pseudo) \n",
    "\n",
    "amide_1_3_pos_analysis = [] \n",
    "for item in amide_1_3_pos:\n",
    "    pseudo = [0]*15\n",
    "    if item[1]>15:\n",
    "        continue \n",
    "    else:\n",
    "        half = int(np.floor(item[1]/2))\n",
    "        if item[1]%2:\n",
    "            start = half+1\n",
    "        else:\n",
    "            start = half\n",
    "        for i in range(start,15-half):\n",
    "            pseudo[i] = np.nan\n",
    "        for j in item[0]:\n",
    "            if j>half:\n",
    "                pseudo[-(item[1]-j)] = 1\n",
    "                \n",
    "            else:\n",
    "                pseudo[j] = 1\n",
    "        amide_1_3_pos_analysis.append(pseudo) \n",
    "\n",
    "        \n",
    "        \n",
    "amide_2_pos_analysis = [] \n",
    "for item in amide_2_pos:\n",
    "    pseudo = [0]*15\n",
    "    if item[1]>15:\n",
    "        continue \n",
    "    else:\n",
    "        half = int(np.floor(item[1]/2))\n",
    "        if item[1]%2:\n",
    "            start = half+1\n",
    "        else:\n",
    "            start = half\n",
    "        for i in range(start,15-half):\n",
    "            pseudo[i] = np.nan\n",
    "        for j in item[0]:\n",
    "            if j>half:\n",
    "                pseudo[-(item[1]-j)] = 1\n",
    "                \n",
    "            else:\n",
    "                pseudo[j] = 1\n",
    "        amide_2_pos_analysis.append(pseudo)\n",
    "\n",
    "amide_2_3_pos_analysis = [] \n",
    "for item in amide_2_3_pos:\n",
    "    pseudo = [0]*15\n",
    "    if item[1]>15:\n",
    "        continue \n",
    "    else:\n",
    "        half = int(np.floor(item[1]/2))\n",
    "        if item[1]%2:\n",
    "            start = half+1\n",
    "        else:\n",
    "            start = half\n",
    "        for i in range(start,15-half):\n",
    "            pseudo[i] = np.nan\n",
    "        for j in item[0]:\n",
    "            if j>half:\n",
    "                pseudo[-(item[1]-j)] = 1\n",
    "                \n",
    "            else:\n",
    "                pseudo[j] = 1\n",
    "        amide_2_3_pos_analysis.append(pseudo)\n",
    "        \n",
    "    \n",
    "amide_3_pos_analysis = [] \n",
    "for item in amide_3_pos:\n",
    "    pseudo = [0]*15\n",
    "    if item[1]>15:\n",
    "        continue \n",
    "    else:\n",
    "        half = int(np.floor(item[1]/2))\n",
    "        if item[1]%2:\n",
    "            start = half+1\n",
    "        else:\n",
    "            start = half\n",
    "        for i in range(start,15-half):\n",
    "            pseudo[i] = np.nan\n",
    "        for j in item[0]:\n",
    "            if j>half:\n",
    "                pseudo[-(item[1]-j)] = 1\n",
    "                \n",
    "            else:\n",
    "                pseudo[j] = 1\n",
    "        amide_3_pos_analysis.append(pseudo)"
   ]
  },
  {
   "cell_type": "code",
   "execution_count": 110,
   "metadata": {},
   "outputs": [
    {
     "data": {
      "image/png": "[encoded data removed]",
      "text/plain": [
       "<Figure size 432x288 with 1 Axes>"
      ]
     },
     "metadata": {
      "needs_background": "light"
     },
     "output_type": "display_data"
    },
    {
     "data": {
      "image/png": "[encoded data removed]",
      "text/plain": [
       "<Figure size 432x288 with 1 Axes>"
      ]
     },
     "metadata": {
      "needs_background": "light"
     },
     "output_type": "display_data"
    },
    {
     "data": {
      "image/png": "[encoded data removed]",
      "text/plain": [
       "<Figure size 432x288 with 1 Axes>"
      ]
     },
     "metadata": {
      "needs_background": "light"
     },
     "output_type": "display_data"
    }
   ],
   "source": [
    "amide_1_frame = pd.DataFrame(amide_1_pos_analysis)\n",
    "amide_1_frame_ = amide_1_frame.sum(axis=0)\n",
    "amide_1_3_frame = pd.DataFrame(amide_1_3_pos_analysis)\n",
    "amide_1_3_frame_ = amide_1_3_frame.sum(axis=0)\n",
    "plt.bar(amide_1_frame_.index+1,amide_1_frame_)\n",
    "plt.bar(amide_1_3_frame_.index+1,amide_1_3_frame_,bottom=amide_1_frame_,label=\"Linear Amide\")\n",
    "plt.xlim(0.5,16.5)\n",
    "plt.ylim(0,300)\n",
    "plt.xticks(np.arange(1,16,2))\n",
    "plt.xlabel(\"Bond Position\",size=15)\n",
    "plt.ylabel(\"Frequency\",size=15)\n",
    "plt.savefig(\"amide_mix_1_position_analysis.pdf\",dpi=300,bbox_inches=\"tight\")\n",
    "plt.show()\n",
    "\n",
    "\n",
    "amide_2_frame = pd.DataFrame(amide_2_pos_analysis)\n",
    "amide_2_frame_ = amide_2_frame.sum(axis=0)\n",
    "amide_2_3_frame = pd.DataFrame(amide_2_3_pos_analysis)\n",
    "amide_2_3_frame_ = amide_2_3_frame.sum(axis=0)\n",
    "plt.bar(amide_2_frame_.index+1,amide_2_frame_)\n",
    "plt.bar(amide_2_3_frame_.index+1,amide_2_3_frame_,bottom=amide_2_frame_,label=\"Linear Amide\")\n",
    "plt.xlim(0.5,16.5)\n",
    "plt.ylim(0,300)\n",
    "plt.xticks(np.arange(1,16,2))\n",
    "plt.xlabel(\"Bond Position\",size=15)\n",
    "plt.ylabel(\"Frequency\",size=15)\n",
    "plt.savefig(\"amide_mix_2_position_analysis.pdf\",dpi=300,bbox_inches=\"tight\")\n",
    "plt.show()\n",
    "\n",
    "\n",
    "amide_3_frame = pd.DataFrame(amide_3_pos_analysis)\n",
    "amide_3_frame_ = amide_3_frame.sum(axis=0)\n",
    "plt.bar(amide_3_frame_.index+1,amide_3_frame_)\n",
    "plt.xlim(0.5,16.5)\n",
    "plt.ylim(0,900)\n",
    "plt.xticks(np.arange(1,16,2))\n",
    "plt.xlabel(\"Bond Position\",size=15)\n",
    "plt.ylabel(\"Frequency\",size=15)\n",
    "plt.savefig(\"amide_mix_3_position_analysis.pdf\",dpi=300,bbox_inches=\"tight\")\n",
    "plt.show()"
   ]
  },
  {
   "cell_type": "markdown",
   "metadata": {},
   "source": [
    "# Hydrogen Bond \n"
   ]
  },
  {
   "cell_type": "code",
   "execution_count": null,
   "metadata": {},
   "outputs": [],
   "source": []
  },
  {
   "cell_type": "code",
   "execution_count": null,
   "metadata": {},
   "outputs": [],
   "source": []
  },
  {
   "cell_type": "code",
   "execution_count": null,
   "metadata": {},
   "outputs": [],
   "source": []
  },
  {
   "cell_type": "code",
   "execution_count": null,
   "metadata": {},
   "outputs": [],
   "source": [
    "def AmidePiStack(mol, ring1, ring2):\n",
    "    \"\"\"\n",
    "    Determine the shortest path that will form pi-pi stacking\n",
    "    \"\"\"\n",
    "    path = []\n",
    "    \n",
    "    \n",
    "    \n",
    "    return path"
   ]
  },
  {
   "cell_type": "code",
   "execution_count": null,
   "metadata": {},
   "outputs": [],
   "source": [
    "def CalculateFoldability(mol):\n",
    "    \"\"\"\n",
    "    Determine foldability of a molecule based on path length, functional groups and position of functional groups\n",
    "    \n",
    "    Functional Group:\n",
    "    1. Carbamic Acid\n",
    "    2. Urea\n",
    "    3. Keton\n",
    "    4. Ether\n",
    "    5. Ester\n",
    "    6. Amide\n",
    "    \"\"\"\n",
    "    \n",
    "    rotor = Chem.MolFromSmarts(\"[!$(*#*)&!D1]-!@[!$(*#*)&!D1]\")\n",
    "\n",
    "    \n",
    "    \n",
    "    foldability = []\n",
    "    return foldability\n",
    "    \n",
    "    \n",
    "    "
   ]
  }
 ],
 "metadata": {
  "kernelspec": {
   "display_name": "Python 3",
   "language": "python",
   "name": "python3"
  },
  "language_info": {
   "codemirror_mode": {
    "name": "ipython",
    "version": 3
   },
   "file_extension": ".py",
   "mimetype": "text/x-python",
   "name": "python",
   "nbconvert_exporter": "python",
   "pygments_lexer": "ipython3",
   "version": "3.5.6"
  }
 },
 "nbformat": 4,
 "nbformat_minor": 4
}
