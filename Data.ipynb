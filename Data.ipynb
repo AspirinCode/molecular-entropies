{
 "cells": [
  {
   "cell_type": "code",
   "execution_count": 1,
   "metadata": {},
   "outputs": [],
   "source": [
    "import numpy as np\n",
    "import pandas as pd\n",
    "import matplotlib.pyplot as plt\n",
    "import seaborn as sns\n",
    "\n",
    "from rdkit import Chem\n",
    "from rdkit.Chem import DataStructs\n",
    "from rdkit.Chem import rdMolDescriptors"
   ]
  },
  {
   "cell_type": "code",
   "execution_count": null,
   "metadata": {},
   "outputs": [],
   "source": [
    "traindf = pd.read_csv(\"train-final.csv\")\n",
    "testdf = pd.read_csv(\"holdout-final.csv\")\n",
    "peptidedf = pd.read_csv(\"peptide-final.csv\")"
   ]
  },
  {
   "cell_type": "code",
   "execution_count": null,
   "metadata": {},
   "outputs": [],
   "source": [
    "def FPBitVec( fps ):\n",
    "    X = []\n",
    "    for item in fps:\n",
    "        bv = DataStructs.ExplicitBitVect(4096)\n",
    "        DataStructs.ExplicitBitVect.FromBase64(bv, item)\n",
    "        X.append(bv)\n",
    "    return X\n",
    "\n",
    "xtrain = FPBitVec(traindf.ECFP6)\n",
    "xtest = FPBitVec(holdoutdf.ECFP6)\n",
    "xpeptide = FPBitVec(peptidedf.ECFP6)\n",
    "\n",
    "train_test_max_similarity = [max(DataStructs.BulkTanimotoSimilarity(fps,xtrain)) for fps in xtest]\n",
    "train_peptide_max_similarity = [max(DataStructs.BulkTanimotoSimilarity(fps,xtrain)) for fps in xpeptide]"
   ]
  },
  {
   "cell_type": "code",
   "execution_count": null,
   "metadata": {},
   "outputs": [],
   "source": [
    "plt.hist(train_test_max_similarity,bins=50)\n",
    "plt.xlabel(\"Similarity\",size=15)\n",
    "plt.ylabel(\"Count\",size=15)\n",
    "plt.xticks([0,.2,.4,.6,.8,1])\n",
    "plt.ylim(0,600)\n",
    "plt.show()\n",
    "\n",
    "plt.hist(train_peptide_max_similarity,bins=50)\n",
    "plt.xlabel(\"Similarity\",size=15)\n",
    "plt.ylabel(\"Count\",size=15)\n",
    "plt.xticks([0,.2,.4,.6,.8,1])\n",
    "plt.ylim(0,600)\n",
    "plt.show()"
   ]
  },
  {
   "cell_type": "code",
   "execution_count": null,
   "metadata": {},
   "outputs": [],
   "source": [
    "# Number of rotatable bonds in both training and testing sets\n",
    "trainmol = [Chem.MolFromSmiles(smi) for smi in traindf.SMILES]\n",
    "testmol = [Chem.MolFromSmiles(smi) for smi in testdf.SMILES]\n",
    "peptidemol = [Chem.MolFromSmiles(smi) for smi in peptidedf.SMILES]\n",
    "train_rotor = [rdMolDescriptors.CalcNumRotatableBonds(mol, strict=False) for mol in trainmol]\n",
    "test_rotor = [rdMolDescriptors.CalcNumRotatableBonds(mol, strict=False) for mol in testmol]\n",
    "peptide_rotor = [rdMolDescriptors.CalcNumRotatableBonds(mol, strict=False) for mol in peptidemol]\n",
    "\n",
    "trainv, trainc = np.unique(train_rotor, return_counts=True)\n",
    "testv, testc = np.unique(test_rotor, return_counts=True)\n",
    "pepv,pepc = np.unique(peptide_rotor, return_counts=True)\n",
    "\n",
    "plt.bar(trainv, trainc)\n",
    "plt.xticks(list(range(0,20,2)))\n",
    "plt.ylabel(\"Count\",size=15)\n",
    "plt.xlabel(\"Number of Rotatable Bonds\",size=15)\n",
    "plt.show()\n",
    "\n",
    "\n",
    "plt.bar(testv, testc)\n",
    "plt.xticks(list(range(0,20,2)))\n",
    "plt.ylabel(\"Count\",size=15)\n",
    "plt.xlabel(\"Number of Rotatable Bonds\",size=15)\n",
    "plt.show()\n",
    "\n",
    "\n",
    "plt.bar(pepv, pepc)\n",
    "plt.xticks(list(range(0,20,2)))\n",
    "plt.ylabel(\"Count\",size=15)\n",
    "plt.xlabel(\"Number of Rotatable Bonds\",size=15)\n",
    "plt.show()"
   ]
  }
 ],
 "metadata": {
  "kernelspec": {
   "display_name": "Python 3",
   "language": "python",
   "name": "python3"
  },
  "language_info": {
   "codemirror_mode": {
    "name": "ipython",
    "version": 3
   },
   "file_extension": ".py",
   "mimetype": "text/x-python",
   "name": "python",
   "nbconvert_exporter": "python",
   "pygments_lexer": "ipython3",
   "version": "3.6.6"
  }
 },
 "nbformat": 4,
 "nbformat_minor": 2
}
