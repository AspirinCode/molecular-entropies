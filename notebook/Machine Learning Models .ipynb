{
 "cells": [
  {
   "cell_type": "code",
   "execution_count": 1,
   "metadata": {},
   "outputs": [],
   "source": [
    "import numpy as np\n",
    "from scipy.spatial.distance import pdist, cdist,squareform\n",
    "from scipy.stats import pearsonr\n",
    "import pandas as pd\n",
    "import matplotlib.pyplot as plt\n",
    "\n",
    "from rdkit import Chem\n",
    "from rdkit.Chem import AllChem\n",
    "from rdkit.Chem import DataStructs\n",
    "\n",
    "from sklearn.model_selection import train_test_split\n",
    "from sklearn.model_selection import cross_val_score\n",
    "from sklearn.model_selection import KFold\n",
    "from sklearn.model_selection import GridSearchCV\n",
    "\n",
    "from sklearn.metrics import mean_absolute_error\n",
    "from sklearn.metrics import r2_score\n",
    "\n",
    "from sklearn.kernel_ridge import KernelRidge\n",
    "from sklearn.ensemble import GradientBoostingRegressor, RandomForestRegressor\n",
    "from sklearn.linear_model import *\n"
   ]
  },
  {
   "cell_type": "code",
   "execution_count": 2,
   "metadata": {},
   "outputs": [],
   "source": [
    "# ECFP6\n",
    "def FPBase64ToNumpy(fps):\n",
    "    X = []\n",
    "    for item in fps:\n",
    "        bv = DataStructs.ExplicitBitVect(4096)\n",
    "        DataStructs.ExplicitBitVect.FromBase64(bv, item)\n",
    "        arr = np.zeros( (1,) )\n",
    "        DataStructs.ConvertToNumpyArray( bv, arr )\n",
    "        X.append(arr)\n",
    "    return X"
   ]
  },
  {
   "cell_type": "code",
   "execution_count": 3,
   "metadata": {},
   "outputs": [],
   "source": [
    "train_ecfp = pd.read_csv(\"../data/train.csv\") \n",
    "test_ecfp = pd.read_csv(\"../data/holdout.csv\")\n",
    "peptide_ecfp = pd.read_csv(\"../data/peptide.csv\")"
   ]
  },
  {
   "cell_type": "code",
   "execution_count": 6,
   "metadata": {},
   "outputs": [],
   "source": [
    "trainX_ecfp = FPBase64ToNumpy(train_ecfp.ECFP6)\n",
    "trainY_ecfp = train_ecfp.ConfEntropy\n",
    "testX_ecfp = FPBase64ToNumpy(test_ecfp.ECFP6)\n",
    "testY_ecfp = test_ecfp.ConfEntropy\n",
    "peptideX_ecfp = FPBase64ToNumpy(peptide_ecfp.ECFP6)\n",
    "peptideY_ecfp = peptide_ecfp.ConfEntropy"
   ]
  },
  {
   "cell_type": "code",
   "execution_count": 7,
   "metadata": {},
   "outputs": [],
   "source": [
    "Lasso_ecfp = LassoCV(cv=5,alphas=(0.01, 0.05, 0.1,0.5, 1.0, 5.0, 10.0)).fit(trainX_ecfp, trainY_ecfp)\n",
    "Ridge_ecfp = RidgeCV(scoring='neg_mean_absolute_error',cv=5,alphas=(0.01, 0.05, 0.1,0.5, 1.0, 5.0, 10.0)).fit(trainX_ecfp, trainY_ecfp)"
   ]
  },
  {
   "cell_type": "code",
   "execution_count": 13,
   "metadata": {},
   "outputs": [],
   "source": [
    "# Prediction\n",
    "lassotest_ecfp = Lasso_ecfp.predict(testX_ecfp)\n",
    "lassopeptide_ecfp = Lasso_ecfp.predict(peptideX_ecfp)\n",
    "ridgetest_ecfp = Ridge_ecfp.predict(testX_ecfp)\n",
    "ridgepeptide_ecfp = Ridge_ecfp.predict(peptideX_ecfp)"
   ]
  },
  {
   "cell_type": "code",
   "execution_count": 16,
   "metadata": {},
   "outputs": [
    {
     "name": "stdout",
     "output_type": "stream",
     "text": [
      "LASSO MAE (J/mol K)\n",
      "ZINC, Peptide\n",
      "5.471984243083529 6.763728716926186\n",
      "Pearson $R^{2}$\n",
      "ZINC, Peptide\n",
      "0.6614825006878227 0.5246553127365389\n",
      "Ridge MAE (J/mol K)\n",
      "ZINC, Peptide\n",
      "5.290579668346901 5.826044439460102\n",
      "Pearson $R^{2}$\n",
      "ZINC, Peptide\n",
      "0.6716639568099717 0.4865169887243126\n"
     ]
    }
   ],
   "source": [
    "print(\"LASSO MAE (J/mol K)\")\n",
    "print(\"ZINC, Peptide\")\n",
    "print(mean_absolute_error(testY_ecfp,lassotest_ecfp),mean_absolute_error(peptideY_ecfp,lassopeptide_ecfp))\n",
    "\n",
    "print(r\"Pearson $R^{2}$\")\n",
    "print(\"ZINC, Peptide\")\n",
    "print(np.square(pearsonr(testY_ecfp,lassotest_ecfp)[0]), np.square(pearsonr(peptideY_ecfp,lassopeptide_ecfp)[0]))\n",
    "\n",
    "\n",
    "print(\"Ridge MAE (J/mol K)\")\n",
    "print(\"ZINC, Peptide\")\n",
    "print(mean_absolute_error(testY_ecfp,ridgetest_ecfp),mean_absolute_error(peptideY_ecfp, ridgepeptide_ecfp))\n",
    "\n",
    "print(r\"Pearson $R^{2}$\")\n",
    "print(\"ZINC, Peptide\")\n",
    "print(np.square(pearsonr(testY_ecfp,ridgetest_ecfp)[0]), np.square(pearsonr(peptideY_ecfp, ridgepeptide_ecfp)[0]))"
   ]
  },
  {
   "cell_type": "code",
   "execution_count": 17,
   "metadata": {},
   "outputs": [],
   "source": [
    "# CDDD\n",
    "train_cddd =  pd.read_csv(\"../data/train_cddd.zip\",compression='zip')\n",
    "test_cddd =  pd.read_csv(\"../data/zinc_test_cddd.zip\",compression='zip')\n",
    "peptide_cddd =  pd.read_csv(\"../data/peptide_cddd.zip\",compression='zip')\n",
    "\n",
    "trainX_cddd = train_cddd.iloc[:,2:]\n",
    "trainY_cddd = train_cddd[\"ConfEntropy\"]\n",
    "testX_cddd = test_cddd.iloc[:,2:]\n",
    "testY_cddd = test_cddd[\"ConfEntropy\"]\n",
    "pepX_cddd = peptide_cddd.iloc[:,2:] \n",
    "pepY_cddd = peptide_cddd[\"ConfEntropy\"]"
   ]
  },
  {
   "cell_type": "code",
   "execution_count": 19,
   "metadata": {
    "collapsed": true
   },
   "outputs": [
    {
     "name": "stderr",
     "output_type": "stream",
     "text": [
      "/home/lucian/anaconda3/envs/entropy/lib/python3.5/site-packages/sklearn/linear_model/coordinate_descent.py:491: ConvergenceWarning: Objective did not converge. You might want to increase the number of iterations. Fitting data with very small alpha may cause precision problems.\n",
      "  ConvergenceWarning)\n",
      "/home/lucian/anaconda3/envs/entropy/lib/python3.5/site-packages/sklearn/linear_model/coordinate_descent.py:491: ConvergenceWarning: Objective did not converge. You might want to increase the number of iterations. Fitting data with very small alpha may cause precision problems.\n",
      "  ConvergenceWarning)\n",
      "/home/lucian/anaconda3/envs/entropy/lib/python3.5/site-packages/sklearn/linear_model/coordinate_descent.py:491: ConvergenceWarning: Objective did not converge. You might want to increase the number of iterations. Fitting data with very small alpha may cause precision problems.\n",
      "  ConvergenceWarning)\n"
     ]
    }
   ],
   "source": [
    "# LASSO and Ridge\n",
    "Lasso_cddd = LassoCV(cv=5,alphas=(0.01, 0.05, 0.1,0.5, 1.0, 5.0, 10.0)).fit(trainX_cddd, trainY_cddd)\n",
    "Ridge_cddd = RidgeCV(scoring='neg_mean_absolute_error',cv=5,alphas=(0.01, 0.05, 0.1,0.5, 1.0, 5.0, 10.0)).fit(trainX_cddd, trainY_cddd)"
   ]
  },
  {
   "cell_type": "code",
   "execution_count": 20,
   "metadata": {},
   "outputs": [],
   "source": [
    "# Prediction\n",
    "lassotest_cddd = Lasso_cddd.predict(testX_cddd)\n",
    "lassopeptide_cddd = Lasso_cddd.predict(pepX_cddd)\n",
    "ridgetest_cddd = Ridge_cddd.predict(testX_cddd)\n",
    "ridgepeptide_cddd = Ridge_cddd.predict(pepX_cddd)"
   ]
  },
  {
   "cell_type": "code",
   "execution_count": 21,
   "metadata": {},
   "outputs": [
    {
     "name": "stdout",
     "output_type": "stream",
     "text": [
      "LASSO MAE (J/mol K)\n",
      "ZINC, Peptide\n",
      "4.304180572976432 4.8450806233197765\n",
      "Pearson R^{2}\n",
      "ZINC, Peptide\n",
      "0.7883647292664123 0.6829538782457725\n",
      "Ridge MAE (J/mol K)\n",
      "ZINC, Peptide\n",
      "4.263715937568957 4.541650530956554\n",
      "Pearson R^{2}\n",
      "ZINC, Peptide\n",
      "0.7914671135756249 0.6693478185949263\n"
     ]
    }
   ],
   "source": [
    "print(\"LASSO MAE (J/mol K)\")\n",
    "print(\"ZINC, Peptide\")\n",
    "print(mean_absolute_error(testY_cddd,lassotest_cddd),mean_absolute_error(pepY_cddd,lassopeptide_cddd))\n",
    "\n",
    "print(\"Pearson R^{2}\")\n",
    "print(\"ZINC, Peptide\")\n",
    "print(np.square(pearsonr(testY_cddd,lassotest_cddd)[0]), np.square(pearsonr(pepY_cddd,lassopeptide_cddd)[0]))\n",
    "\n",
    "\n",
    "print(\"Ridge MAE (J/mol K)\")\n",
    "print(\"ZINC, Peptide\")\n",
    "print(mean_absolute_error(testY_cddd,ridgetest_cddd),mean_absolute_error(pepY_cddd, ridgepeptide_cddd))\n",
    "\n",
    "print(\"Pearson R^{2}\")\n",
    "print(\"ZINC, Peptide\")\n",
    "print(np.square(pearsonr(testY_cddd,ridgetest_cddd)[0]), np.square(pearsonr(pepY_cddd, ridgepeptide_cddd)[0]))"
   ]
  }
 ],
 "metadata": {
  "kernelspec": {
   "display_name": "Python 3",
   "language": "python",
   "name": "python3"
  },
  "language_info": {
   "codemirror_mode": {
    "name": "ipython",
    "version": 3
   },
   "file_extension": ".py",
   "mimetype": "text/x-python",
   "name": "python",
   "nbconvert_exporter": "python",
   "pygments_lexer": "ipython3",
   "version": "3.5.6"
  }
 },
 "nbformat": 4,
 "nbformat_minor": 2
}
